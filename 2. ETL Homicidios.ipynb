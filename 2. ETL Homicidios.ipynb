{
 "cells": [
  {
   "cell_type": "markdown",
   "metadata": {},
   "source": [
    "# Proceso de ETL para Homicidos en Siniestros Viales Buenos Aires\n",
    "\n",
    "Con base en una extensa experiencia en el ámbito de la ciencia de datos, se emprenderá el proceso de ETL (Extract, Transform, Load) sobre el dataset \"homicidos\", el cual contiene datos pormenorizados sobre homicidios asociados a incidentes viales en la Ciudad, abarcando el período comprendido entre los años 2016 y 2021. Este conjunto de datos proporciona información crucial como fechas, ubicaciones y tipos de transporte involucrados en cada evento, lo que permitirá un análisis exhaustivo para extraer conocimientos relevantes y establecer medidas preventivas eficaces."
   ]
  },
  {
   "cell_type": "markdown",
   "metadata": {},
   "source": [
    "## 1. Importacion de librerias"
   ]
  },
  {
   "cell_type": "code",
   "execution_count": 23,
   "metadata": {},
   "outputs": [],
   "source": [
    "import pandas as pd"
   ]
  },
  {
   "cell_type": "markdown",
   "metadata": {},
   "source": [
    "##  2. Cargamos los datos\n",
    "\n",
    "En esta sección, los datos serán cargados a un DataFrame de pandas y se empleará el método .head() para revisar su estructura inicial. Como los archivos se encuentran separados en dos hoajas dentro de excel, se realizara este proceso para cada una de las hojas del archivo de excel"
   ]
  },
  {
   "cell_type": "code",
   "execution_count": 24,
   "metadata": {},
   "outputs": [],
   "source": [
    "homicidios_h = pd.read_excel('Datasets\\homicidios.xlsx', sheet_name='HECHOS', na_values=['sd', 'SD'])\n",
    "homicidios_v = pd.read_excel('Datasets\\homicidios.xlsx', sheet_name='VICTIMAS', na_values=['sd', 'SD'])"
   ]
  },
  {
   "cell_type": "code",
   "execution_count": 25,
   "metadata": {},
   "outputs": [
    {
     "data": {
      "text/html": [
       "<div>\n",
       "<style scoped>\n",
       "    .dataframe tbody tr th:only-of-type {\n",
       "        vertical-align: middle;\n",
       "    }\n",
       "\n",
       "    .dataframe tbody tr th {\n",
       "        vertical-align: top;\n",
       "    }\n",
       "\n",
       "    .dataframe thead th {\n",
       "        text-align: right;\n",
       "    }\n",
       "</style>\n",
       "<table border=\"1\" class=\"dataframe\">\n",
       "  <thead>\n",
       "    <tr style=\"text-align: right;\">\n",
       "      <th></th>\n",
       "      <th>ID</th>\n",
       "      <th>N_VICTIMAS</th>\n",
       "      <th>FECHA</th>\n",
       "      <th>AAAA</th>\n",
       "      <th>MM</th>\n",
       "      <th>DD</th>\n",
       "      <th>HORA</th>\n",
       "      <th>HH</th>\n",
       "      <th>LUGAR_DEL_HECHO</th>\n",
       "      <th>TIPO_DE_CALLE</th>\n",
       "      <th>...</th>\n",
       "      <th>Altura</th>\n",
       "      <th>Cruce</th>\n",
       "      <th>Dirección Normalizada</th>\n",
       "      <th>COMUNA</th>\n",
       "      <th>XY (CABA)</th>\n",
       "      <th>pos x</th>\n",
       "      <th>pos y</th>\n",
       "      <th>PARTICIPANTES</th>\n",
       "      <th>VICTIMA</th>\n",
       "      <th>ACUSADO</th>\n",
       "    </tr>\n",
       "  </thead>\n",
       "  <tbody>\n",
       "    <tr>\n",
       "      <th>0</th>\n",
       "      <td>2016-0001</td>\n",
       "      <td>1</td>\n",
       "      <td>2016-01-01</td>\n",
       "      <td>2016</td>\n",
       "      <td>1</td>\n",
       "      <td>1</td>\n",
       "      <td>04:00:00</td>\n",
       "      <td>4.0</td>\n",
       "      <td>AV PIEDRA BUENA Y AV FERNANDEZ DE LA CRUZ</td>\n",
       "      <td>AVENIDA</td>\n",
       "      <td>...</td>\n",
       "      <td>NaN</td>\n",
       "      <td>FERNANDEZ DE LA CRUZ, F., GRAL. AV.</td>\n",
       "      <td>PIEDRA BUENA AV. y FERNANDEZ DE LA CRUZ, F., G...</td>\n",
       "      <td>8</td>\n",
       "      <td>Point (98896.78238426 93532.43437792)</td>\n",
       "      <td>-58.47533969</td>\n",
       "      <td>-34.68757022</td>\n",
       "      <td>MOTO-AUTO</td>\n",
       "      <td>MOTO</td>\n",
       "      <td>AUTO</td>\n",
       "    </tr>\n",
       "    <tr>\n",
       "      <th>1</th>\n",
       "      <td>2016-0002</td>\n",
       "      <td>1</td>\n",
       "      <td>2016-01-02</td>\n",
       "      <td>2016</td>\n",
       "      <td>1</td>\n",
       "      <td>2</td>\n",
       "      <td>01:15:00</td>\n",
       "      <td>1.0</td>\n",
       "      <td>AV GRAL PAZ  Y AV DE LOS CORRALES</td>\n",
       "      <td>GRAL PAZ</td>\n",
       "      <td>...</td>\n",
       "      <td>NaN</td>\n",
       "      <td>DE LOS CORRALES AV.</td>\n",
       "      <td>PAZ, GRAL. AV. y DE LOS CORRALES AV.</td>\n",
       "      <td>9</td>\n",
       "      <td>Point (95832.05571093 95505.41641999)</td>\n",
       "      <td>-58.50877521</td>\n",
       "      <td>-34.66977709</td>\n",
       "      <td>AUTO-PASAJEROS</td>\n",
       "      <td>AUTO</td>\n",
       "      <td>PASAJEROS</td>\n",
       "    </tr>\n",
       "    <tr>\n",
       "      <th>2</th>\n",
       "      <td>2016-0003</td>\n",
       "      <td>1</td>\n",
       "      <td>2016-01-03</td>\n",
       "      <td>2016</td>\n",
       "      <td>1</td>\n",
       "      <td>3</td>\n",
       "      <td>07:00:00</td>\n",
       "      <td>7.0</td>\n",
       "      <td>AV ENTRE RIOS 2034</td>\n",
       "      <td>AVENIDA</td>\n",
       "      <td>...</td>\n",
       "      <td>2034.0</td>\n",
       "      <td>NaN</td>\n",
       "      <td>ENTRE RIOS AV. 2034</td>\n",
       "      <td>1</td>\n",
       "      <td>Point (106684.29090040 99706.57687843)</td>\n",
       "      <td>-58.39040293</td>\n",
       "      <td>-34.63189362</td>\n",
       "      <td>MOTO-AUTO</td>\n",
       "      <td>MOTO</td>\n",
       "      <td>AUTO</td>\n",
       "    </tr>\n",
       "  </tbody>\n",
       "</table>\n",
       "<p>3 rows × 21 columns</p>\n",
       "</div>"
      ],
      "text/plain": [
       "          ID  N_VICTIMAS      FECHA  AAAA  MM  DD      HORA   HH  \\\n",
       "0  2016-0001           1 2016-01-01  2016   1   1  04:00:00  4.0   \n",
       "1  2016-0002           1 2016-01-02  2016   1   2  01:15:00  1.0   \n",
       "2  2016-0003           1 2016-01-03  2016   1   3  07:00:00  7.0   \n",
       "\n",
       "                             LUGAR_DEL_HECHO TIPO_DE_CALLE  ...  Altura  \\\n",
       "0  AV PIEDRA BUENA Y AV FERNANDEZ DE LA CRUZ       AVENIDA  ...     NaN   \n",
       "1          AV GRAL PAZ  Y AV DE LOS CORRALES      GRAL PAZ  ...     NaN   \n",
       "2                         AV ENTRE RIOS 2034       AVENIDA  ...  2034.0   \n",
       "\n",
       "                                 Cruce  \\\n",
       "0  FERNANDEZ DE LA CRUZ, F., GRAL. AV.   \n",
       "1                  DE LOS CORRALES AV.   \n",
       "2                                  NaN   \n",
       "\n",
       "                               Dirección Normalizada COMUNA  \\\n",
       "0  PIEDRA BUENA AV. y FERNANDEZ DE LA CRUZ, F., G...      8   \n",
       "1               PAZ, GRAL. AV. y DE LOS CORRALES AV.      9   \n",
       "2                                ENTRE RIOS AV. 2034      1   \n",
       "\n",
       "                                XY (CABA)         pos x         pos y  \\\n",
       "0   Point (98896.78238426 93532.43437792)  -58.47533969  -34.68757022   \n",
       "1   Point (95832.05571093 95505.41641999)  -58.50877521  -34.66977709   \n",
       "2  Point (106684.29090040 99706.57687843)  -58.39040293  -34.63189362   \n",
       "\n",
       "    PARTICIPANTES VICTIMA    ACUSADO  \n",
       "0       MOTO-AUTO    MOTO       AUTO  \n",
       "1  AUTO-PASAJEROS    AUTO  PASAJEROS  \n",
       "2       MOTO-AUTO    MOTO       AUTO  \n",
       "\n",
       "[3 rows x 21 columns]"
      ]
     },
     "execution_count": 25,
     "metadata": {},
     "output_type": "execute_result"
    }
   ],
   "source": [
    "homicidios_h.head(3)"
   ]
  },
  {
   "cell_type": "code",
   "execution_count": 26,
   "metadata": {},
   "outputs": [
    {
     "data": {
      "text/html": [
       "<div>\n",
       "<style scoped>\n",
       "    .dataframe tbody tr th:only-of-type {\n",
       "        vertical-align: middle;\n",
       "    }\n",
       "\n",
       "    .dataframe tbody tr th {\n",
       "        vertical-align: top;\n",
       "    }\n",
       "\n",
       "    .dataframe thead th {\n",
       "        text-align: right;\n",
       "    }\n",
       "</style>\n",
       "<table border=\"1\" class=\"dataframe\">\n",
       "  <thead>\n",
       "    <tr style=\"text-align: right;\">\n",
       "      <th></th>\n",
       "      <th>ID_hecho</th>\n",
       "      <th>FECHA</th>\n",
       "      <th>AAAA</th>\n",
       "      <th>MM</th>\n",
       "      <th>DD</th>\n",
       "      <th>ROL</th>\n",
       "      <th>VICTIMA</th>\n",
       "      <th>SEXO</th>\n",
       "      <th>EDAD</th>\n",
       "      <th>FECHA_FALLECIMIENTO</th>\n",
       "    </tr>\n",
       "  </thead>\n",
       "  <tbody>\n",
       "    <tr>\n",
       "      <th>0</th>\n",
       "      <td>2016-0001</td>\n",
       "      <td>2016-01-01</td>\n",
       "      <td>2016</td>\n",
       "      <td>1</td>\n",
       "      <td>1</td>\n",
       "      <td>CONDUCTOR</td>\n",
       "      <td>MOTO</td>\n",
       "      <td>MASCULINO</td>\n",
       "      <td>19.0</td>\n",
       "      <td>2016-01-01 00:00:00</td>\n",
       "    </tr>\n",
       "    <tr>\n",
       "      <th>1</th>\n",
       "      <td>2016-0002</td>\n",
       "      <td>2016-01-02</td>\n",
       "      <td>2016</td>\n",
       "      <td>1</td>\n",
       "      <td>2</td>\n",
       "      <td>CONDUCTOR</td>\n",
       "      <td>AUTO</td>\n",
       "      <td>MASCULINO</td>\n",
       "      <td>70.0</td>\n",
       "      <td>2016-01-02 00:00:00</td>\n",
       "    </tr>\n",
       "    <tr>\n",
       "      <th>2</th>\n",
       "      <td>2016-0003</td>\n",
       "      <td>2016-01-03</td>\n",
       "      <td>2016</td>\n",
       "      <td>1</td>\n",
       "      <td>3</td>\n",
       "      <td>CONDUCTOR</td>\n",
       "      <td>MOTO</td>\n",
       "      <td>MASCULINO</td>\n",
       "      <td>30.0</td>\n",
       "      <td>2016-01-03 00:00:00</td>\n",
       "    </tr>\n",
       "  </tbody>\n",
       "</table>\n",
       "</div>"
      ],
      "text/plain": [
       "    ID_hecho      FECHA  AAAA  MM  DD        ROL VICTIMA       SEXO  EDAD  \\\n",
       "0  2016-0001 2016-01-01  2016   1   1  CONDUCTOR    MOTO  MASCULINO  19.0   \n",
       "1  2016-0002 2016-01-02  2016   1   2  CONDUCTOR    AUTO  MASCULINO  70.0   \n",
       "2  2016-0003 2016-01-03  2016   1   3  CONDUCTOR    MOTO  MASCULINO  30.0   \n",
       "\n",
       "   FECHA_FALLECIMIENTO  \n",
       "0  2016-01-01 00:00:00  \n",
       "1  2016-01-02 00:00:00  \n",
       "2  2016-01-03 00:00:00  "
      ]
     },
     "execution_count": 26,
     "metadata": {},
     "output_type": "execute_result"
    }
   ],
   "source": [
    "homicidios_v.head(3)"
   ]
  },
  {
   "cell_type": "markdown",
   "metadata": {},
   "source": [
    "## 3. Revisamos la información de cada dataframe\n",
    "\n",
    "En este paso, se procederá a explorar la estructura de cada uno de los dataframes previamente cargados. Esta exploración permitirá comprender la composición de los datos, identificar posibles inconsistencias o patrones relevantes, y así estar en posición de realizar las modificaciones necesarias para mejorar su calidad o adaptarlos a los requerimientos específicos del análisis o aplicación que se pretende llevar a cabo."
   ]
  },
  {
   "cell_type": "markdown",
   "metadata": {},
   "source": [
    "### Dataframe Homicidios - Hechos"
   ]
  },
  {
   "cell_type": "code",
   "execution_count": 27,
   "metadata": {},
   "outputs": [
    {
     "name": "stdout",
     "output_type": "stream",
     "text": [
      "<class 'pandas.core.frame.DataFrame'>\n",
      "RangeIndex: 696 entries, 0 to 695\n",
      "Data columns (total 21 columns):\n",
      " #   Column                 Non-Null Count  Dtype         \n",
      "---  ------                 --------------  -----         \n",
      " 0   ID                     696 non-null    object        \n",
      " 1   N_VICTIMAS             696 non-null    int64         \n",
      " 2   FECHA                  696 non-null    datetime64[ns]\n",
      " 3   AAAA                   696 non-null    int64         \n",
      " 4   MM                     696 non-null    int64         \n",
      " 5   DD                     696 non-null    int64         \n",
      " 6   HORA                   695 non-null    object        \n",
      " 7   HH                     695 non-null    float64       \n",
      " 8   LUGAR_DEL_HECHO        695 non-null    object        \n",
      " 9   TIPO_DE_CALLE          696 non-null    object        \n",
      " 10  Calle                  695 non-null    object        \n",
      " 11  Altura                 129 non-null    float64       \n",
      " 12  Cruce                  525 non-null    object        \n",
      " 13  Dirección Normalizada  688 non-null    object        \n",
      " 14  COMUNA                 696 non-null    int64         \n",
      " 15  XY (CABA)              696 non-null    object        \n",
      " 16  pos x                  696 non-null    object        \n",
      " 17  pos y                  696 non-null    object        \n",
      " 18  PARTICIPANTES          696 non-null    object        \n",
      " 19  VICTIMA                687 non-null    object        \n",
      " 20  ACUSADO                673 non-null    object        \n",
      "dtypes: datetime64[ns](1), float64(2), int64(5), object(13)\n",
      "memory usage: 114.3+ KB\n"
     ]
    }
   ],
   "source": [
    "homicidios_h.info()"
   ]
  },
  {
   "cell_type": "markdown",
   "metadata": {},
   "source": [
    "Exploración de las Columnas:\n",
    "\n",
    "- La columna \"ID\" parece ser una identificación única para cada registro en el DataFrame.\n",
    "- La columna \"N_VICTIMAS\" indica el número de víctimas involucradas en un incidente.\n",
    "- La columna \"FECHA\" almacena la fecha del incidente en formato datetime64[ns], lo que permite un fácil manejo y análisis de fechas.\n",
    "- Las columnas \"AAAA\", \"MM\" y \"DD\" parecen ser desgloses de la fecha en año, mes y día, respectivamente.\n",
    "- La columna \"HORA\" contiene información sobre la hora del incidente. Sin embargo, hay una instancia faltante.\n",
    "- Las columnas relacionadas con la ubicación del incidente incluyen \"LUGAR_DEL_HECHO\", \"TIPO_DE_CALLE\", \"Calle\", \"Altura\", \"Cruce\" y \"Dirección Normalizada\". Estas columnas proporcionan información detallada sobre la ubicación del incidente, incluyendo el tipo de calle, nombres de calles, altura, cruce y dirección normalizada.\n",
    "- La columna \"COMUNA\" indica la comuna donde ocurrió el incidente.\n",
    "- Las columnas \"XY (CABA)\", \"pos x\" y \"pos y\" parecen contener información de coordenadas geográficas.\n",
    "- Las columnas \"PARTICIPANTES\", \"VICTIMA\" y \"ACUSADO\" contienen información sobre los involucrados en el incidente.\n",
    "\n",
    "Valores Nulos:\n",
    "\n",
    "Las columnas \"Altura\", \"Cruce\", \"Dirección Normalizada\", \"VICTIMA\" y \"ACUSADO\" tienen valores nulos. Es importante considerar cómo manejar estos valores faltantes durante el análisis."
   ]
  },
  {
   "cell_type": "code",
   "execution_count": 28,
   "metadata": {},
   "outputs": [],
   "source": [
    "# Creamos una función que nos permita calcular los datos nulos para los dataframes\n",
    "def porcentaje_valores_nulos(dataframe):\n",
    "    total_filas = len(dataframe)\n",
    "    print(\"Porcentaje de valores nulos por columna:\")\n",
    "    for columna in dataframe.columns:\n",
    "        valores_nulos = dataframe[columna].isnull().sum()\n",
    "        porcentaje_nulos = (valores_nulos / total_filas) * 100\n",
    "        print(f\"{columna}: {porcentaje_nulos:.2f}%\")\n",
    "\n",
    "    total_valores_nulos = dataframe.isnull().sum().sum()\n",
    "    porcentaje_total_nulos = (total_valores_nulos / (total_filas * len(dataframe.columns))) * 100\n",
    "    print(f\"\\nTotal de valores nulos en el DataFrame: {total_valores_nulos}\")\n",
    "    print(f\"Porcentaje total de valores nulos en el DataFrame: {porcentaje_total_nulos:.2f}%\")"
   ]
  },
  {
   "cell_type": "code",
   "execution_count": 29,
   "metadata": {},
   "outputs": [],
   "source": [
    "# Creamos una función que nos permita calcular los datos duplicados para los dataframes\n",
    "\n",
    "def porcentaje_valores_duplicados(dataframe, columna):\n",
    "    total_filas = len(dataframe)\n",
    "    valores_duplicados = dataframe.duplicated(subset=[columna]).sum()\n",
    "    porcentaje_duplicados = (valores_duplicados / total_filas) * 100\n",
    "    print(f\"Porcentaje de valores duplicados en la columna '{columna}': {porcentaje_duplicados:.2f}%\")"
   ]
  },
  {
   "cell_type": "code",
   "execution_count": 30,
   "metadata": {},
   "outputs": [
    {
     "name": "stdout",
     "output_type": "stream",
     "text": [
      "Porcentaje de valores nulos por columna:\n",
      "ID: 0.00%\n",
      "N_VICTIMAS: 0.00%\n",
      "FECHA: 0.00%\n",
      "AAAA: 0.00%\n",
      "MM: 0.00%\n",
      "DD: 0.00%\n",
      "HORA: 0.14%\n",
      "HH: 0.14%\n",
      "LUGAR_DEL_HECHO: 0.14%\n",
      "TIPO_DE_CALLE: 0.00%\n",
      "Calle: 0.14%\n",
      "Altura: 81.47%\n",
      "Cruce: 24.57%\n",
      "Dirección Normalizada: 1.15%\n",
      "COMUNA: 0.00%\n",
      "XY (CABA): 0.00%\n",
      "pos x: 0.00%\n",
      "pos y: 0.00%\n",
      "PARTICIPANTES: 0.00%\n",
      "VICTIMA: 1.29%\n",
      "ACUSADO: 3.30%\n",
      "\n",
      "Total de valores nulos en el DataFrame: 782\n",
      "Porcentaje total de valores nulos en el DataFrame: 5.35%\n"
     ]
    }
   ],
   "source": [
    "porcentaje_valores_nulos(homicidios_h)"
   ]
  },
  {
   "cell_type": "code",
   "execution_count": 31,
   "metadata": {},
   "outputs": [
    {
     "name": "stdout",
     "output_type": "stream",
     "text": [
      "Porcentaje de valores duplicados en la columna 'ID': 0.00%\n"
     ]
    }
   ],
   "source": [
    "porcentaje_valores_duplicados(homicidios_h, 'ID')"
   ]
  },
  {
   "cell_type": "code",
   "execution_count": 32,
   "metadata": {},
   "outputs": [],
   "source": [
    "# Eliminación de columnas innecesarias\n",
    "columnas_inecesarias = ['AAAA','DD','MM','HORA','LUGAR_DEL_HECHO','Calle','Altura','Cruce','Dirección Normalizada','XY (CABA)']\n",
    "homicidios_h.drop(columns=columnas_inecesarias, inplace=True)"
   ]
  },
  {
   "cell_type": "code",
   "execution_count": 33,
   "metadata": {},
   "outputs": [
    {
     "name": "stdout",
     "output_type": "stream",
     "text": [
      "Porcentaje de valores nulos por columna:\n",
      "ID: 0.00%\n",
      "N_VICTIMAS: 0.00%\n",
      "FECHA: 0.00%\n",
      "HH: 0.14%\n",
      "TIPO_DE_CALLE: 0.00%\n",
      "COMUNA: 0.00%\n",
      "pos x: 0.00%\n",
      "pos y: 0.00%\n",
      "PARTICIPANTES: 0.00%\n",
      "VICTIMA: 1.29%\n",
      "ACUSADO: 3.30%\n",
      "\n",
      "Total de valores nulos en el DataFrame: 33\n",
      "Porcentaje total de valores nulos en el DataFrame: 0.43%\n"
     ]
    }
   ],
   "source": [
    "porcentaje_valores_nulos(homicidios_h)"
   ]
  },
  {
   "cell_type": "code",
   "execution_count": 34,
   "metadata": {},
   "outputs": [
    {
     "data": {
      "text/plain": [
       "0     2016-01-01\n",
       "1     2016-01-02\n",
       "2     2016-01-03\n",
       "3     2016-01-10\n",
       "4     2016-01-21\n",
       "         ...    \n",
       "691   2021-12-13\n",
       "692   2021-12-20\n",
       "693   2021-12-30\n",
       "694   2021-12-15\n",
       "695   2021-11-18\n",
       "Name: FECHA, Length: 696, dtype: datetime64[ns]"
      ]
     },
     "execution_count": 34,
     "metadata": {},
     "output_type": "execute_result"
    }
   ],
   "source": [
    "homicidios_h['FECHA']"
   ]
  },
  {
   "cell_type": "code",
   "execution_count": 35,
   "metadata": {},
   "outputs": [
    {
     "data": {
      "text/plain": [
       "0       4.0\n",
       "1       1.0\n",
       "2       7.0\n",
       "3       0.0\n",
       "4       5.0\n",
       "       ... \n",
       "691    17.0\n",
       "692     1.0\n",
       "693     0.0\n",
       "694    10.0\n",
       "695     6.0\n",
       "Name: HH, Length: 696, dtype: float64"
      ]
     },
     "execution_count": 35,
     "metadata": {},
     "output_type": "execute_result"
    }
   ],
   "source": [
    "homicidios_h['HH']"
   ]
  },
  {
   "cell_type": "code",
   "execution_count": 36,
   "metadata": {},
   "outputs": [
    {
     "data": {
      "text/plain": [
       "PARTICIPANTES\n",
       "PEATON-PASAJEROS       105\n",
       "MOTO-AUTO               83\n",
       "MOTO-CARGAS             78\n",
       "PEATON-AUTO             77\n",
       "MOTO-PASAJEROS          46\n",
       "MOTO-OBJETO FIJO        40\n",
       "PEATON-CARGAS           38\n",
       "AUTO-AUTO               31\n",
       "PEATON-MOTO             30\n",
       "MOTO-MOTO               25\n",
       "AUTO-OBJETO FIJO        22\n",
       "MULTIPLE                17\n",
       "AUTO-CARGAS             14\n",
       "BICICLETA-CARGAS        10\n",
       "AUTO-PASAJEROS           9\n",
       "MOTO-SD                  9\n",
       "BICICLETA-PASAJEROS      8\n",
       "BICICLETA-AUTO           8\n",
       "SD-SD                    5\n",
       "PEATON-BICICLETA         5\n",
       "AUTO-SD                  4\n",
       "CARGAS-CARGAS            4\n",
       "PEATON-SD                4\n",
       "PASAJEROS-PASAJEROS      3\n",
       "MOTO-OTRO                2\n",
       "MOTO-BICICLETA           2\n",
       "SD-AUTO                  2\n",
       "MOTO-MOVIL               2\n",
       "CARGAS-OBJETO FIJO       1\n",
       "CARGAS-AUTO              1\n",
       "MOVIL-PASAJEROS          1\n",
       "SD-CARGAS                1\n",
       "SD-MOTO                  1\n",
       "MOVIL-CARGAS             1\n",
       "PASAJEROS-AUTO           1\n",
       "AUTO-MOVIL               1\n",
       "CARGAS-PASAJEROS         1\n",
       "BICICLETA-TREN           1\n",
       "BICICLETA-OTRO           1\n",
       "PEATON_MOTO-MOTO         1\n",
       "PASAJEROS-SD             1\n",
       "Name: count, dtype: int64"
      ]
     },
     "execution_count": 36,
     "metadata": {},
     "output_type": "execute_result"
    }
   ],
   "source": [
    "homicidios_h['PARTICIPANTES'].value_counts()"
   ]
  },
  {
   "cell_type": "code",
   "execution_count": 37,
   "metadata": {},
   "outputs": [],
   "source": [
    "# Creación de nuevas columnas a partir de datos existentes\n",
    "homicidios_h[['AFECTADO_1', 'AFECTADO_2']] = homicidios_h['PARTICIPANTES'].str.split('-', expand=True)"
   ]
  },
  {
   "cell_type": "code",
   "execution_count": 38,
   "metadata": {},
   "outputs": [],
   "source": [
    "homicidios_h = homicidios_h.drop(columns=['PARTICIPANTES'])"
   ]
  },
  {
   "cell_type": "code",
   "execution_count": 39,
   "metadata": {},
   "outputs": [
    {
     "data": {
      "text/html": [
       "<div>\n",
       "<style scoped>\n",
       "    .dataframe tbody tr th:only-of-type {\n",
       "        vertical-align: middle;\n",
       "    }\n",
       "\n",
       "    .dataframe tbody tr th {\n",
       "        vertical-align: top;\n",
       "    }\n",
       "\n",
       "    .dataframe thead th {\n",
       "        text-align: right;\n",
       "    }\n",
       "</style>\n",
       "<table border=\"1\" class=\"dataframe\">\n",
       "  <thead>\n",
       "    <tr style=\"text-align: right;\">\n",
       "      <th></th>\n",
       "      <th>ID</th>\n",
       "      <th>N_VICTIMAS</th>\n",
       "      <th>FECHA</th>\n",
       "      <th>HH</th>\n",
       "      <th>TIPO_DE_CALLE</th>\n",
       "      <th>COMUNA</th>\n",
       "      <th>pos x</th>\n",
       "      <th>pos y</th>\n",
       "      <th>VICTIMA</th>\n",
       "      <th>ACUSADO</th>\n",
       "      <th>AFECTADO_1</th>\n",
       "      <th>AFECTADO_2</th>\n",
       "    </tr>\n",
       "  </thead>\n",
       "  <tbody>\n",
       "    <tr>\n",
       "      <th>0</th>\n",
       "      <td>2016-0001</td>\n",
       "      <td>1</td>\n",
       "      <td>2016-01-01</td>\n",
       "      <td>4.0</td>\n",
       "      <td>AVENIDA</td>\n",
       "      <td>8</td>\n",
       "      <td>-58.47533969</td>\n",
       "      <td>-34.68757022</td>\n",
       "      <td>MOTO</td>\n",
       "      <td>AUTO</td>\n",
       "      <td>MOTO</td>\n",
       "      <td>AUTO</td>\n",
       "    </tr>\n",
       "    <tr>\n",
       "      <th>1</th>\n",
       "      <td>2016-0002</td>\n",
       "      <td>1</td>\n",
       "      <td>2016-01-02</td>\n",
       "      <td>1.0</td>\n",
       "      <td>GRAL PAZ</td>\n",
       "      <td>9</td>\n",
       "      <td>-58.50877521</td>\n",
       "      <td>-34.66977709</td>\n",
       "      <td>AUTO</td>\n",
       "      <td>PASAJEROS</td>\n",
       "      <td>AUTO</td>\n",
       "      <td>PASAJEROS</td>\n",
       "    </tr>\n",
       "  </tbody>\n",
       "</table>\n",
       "</div>"
      ],
      "text/plain": [
       "          ID  N_VICTIMAS      FECHA   HH TIPO_DE_CALLE  COMUNA         pos x  \\\n",
       "0  2016-0001           1 2016-01-01  4.0       AVENIDA       8  -58.47533969   \n",
       "1  2016-0002           1 2016-01-02  1.0      GRAL PAZ       9  -58.50877521   \n",
       "\n",
       "          pos y VICTIMA    ACUSADO AFECTADO_1 AFECTADO_2  \n",
       "0  -34.68757022    MOTO       AUTO       MOTO       AUTO  \n",
       "1  -34.66977709    AUTO  PASAJEROS       AUTO  PASAJEROS  "
      ]
     },
     "execution_count": 39,
     "metadata": {},
     "output_type": "execute_result"
    }
   ],
   "source": [
    "homicidios_h.head(2)"
   ]
  },
  {
   "cell_type": "code",
   "execution_count": 40,
   "metadata": {},
   "outputs": [
    {
     "data": {
      "text/plain": [
       "ACUSADO\n",
       "AUTO           204\n",
       "PASAJEROS      173\n",
       "CARGAS         146\n",
       "OBJETO FIJO     62\n",
       "MOTO            57\n",
       "MULTIPLE        17\n",
       "BICICLETA        7\n",
       "OTRO             6\n",
       "TREN             1\n",
       "Name: count, dtype: int64"
      ]
     },
     "execution_count": 40,
     "metadata": {},
     "output_type": "execute_result"
    }
   ],
   "source": [
    "homicidios_h['ACUSADO'].value_counts()"
   ]
  },
  {
   "cell_type": "code",
   "execution_count": 41,
   "metadata": {},
   "outputs": [
    {
     "data": {
      "text/plain": [
       "VICTIMA\n",
       "MOTO           295\n",
       "PEATON         264\n",
       "AUTO            83\n",
       "BICICLETA       29\n",
       "CARGAS           7\n",
       "PASAJEROS        5\n",
       "MOVIL            2\n",
       "OBJETO FIJO      1\n",
       "PEATON_MOTO      1\n",
       "Name: count, dtype: int64"
      ]
     },
     "execution_count": 41,
     "metadata": {},
     "output_type": "execute_result"
    }
   ],
   "source": [
    "homicidios_h['VICTIMA'].value_counts()"
   ]
  },
  {
   "cell_type": "code",
   "execution_count": 42,
   "metadata": {},
   "outputs": [
    {
     "data": {
      "text/html": [
       "<div>\n",
       "<style scoped>\n",
       "    .dataframe tbody tr th:only-of-type {\n",
       "        vertical-align: middle;\n",
       "    }\n",
       "\n",
       "    .dataframe tbody tr th {\n",
       "        vertical-align: top;\n",
       "    }\n",
       "\n",
       "    .dataframe thead th {\n",
       "        text-align: right;\n",
       "    }\n",
       "</style>\n",
       "<table border=\"1\" class=\"dataframe\">\n",
       "  <thead>\n",
       "    <tr style=\"text-align: right;\">\n",
       "      <th></th>\n",
       "      <th>ID</th>\n",
       "      <th>N_VICTIMAS</th>\n",
       "      <th>FECHA</th>\n",
       "      <th>HH</th>\n",
       "      <th>TIPO_DE_CALLE</th>\n",
       "      <th>COMUNA</th>\n",
       "      <th>LATITUD</th>\n",
       "      <th>LONGITUD</th>\n",
       "      <th>VICTIMA</th>\n",
       "      <th>ACUSADO</th>\n",
       "      <th>AFECTADO_1</th>\n",
       "      <th>AFECTADO_2</th>\n",
       "    </tr>\n",
       "  </thead>\n",
       "  <tbody>\n",
       "    <tr>\n",
       "      <th>0</th>\n",
       "      <td>2016-0001</td>\n",
       "      <td>1</td>\n",
       "      <td>2016-01-01</td>\n",
       "      <td>4.0</td>\n",
       "      <td>AVENIDA</td>\n",
       "      <td>8</td>\n",
       "      <td>-58.47533969</td>\n",
       "      <td>-34.68757022</td>\n",
       "      <td>MOTO</td>\n",
       "      <td>AUTO</td>\n",
       "      <td>MOTO</td>\n",
       "      <td>AUTO</td>\n",
       "    </tr>\n",
       "    <tr>\n",
       "      <th>1</th>\n",
       "      <td>2016-0002</td>\n",
       "      <td>1</td>\n",
       "      <td>2016-01-02</td>\n",
       "      <td>1.0</td>\n",
       "      <td>GRAL PAZ</td>\n",
       "      <td>9</td>\n",
       "      <td>-58.50877521</td>\n",
       "      <td>-34.66977709</td>\n",
       "      <td>AUTO</td>\n",
       "      <td>PASAJEROS</td>\n",
       "      <td>AUTO</td>\n",
       "      <td>PASAJEROS</td>\n",
       "    </tr>\n",
       "  </tbody>\n",
       "</table>\n",
       "</div>"
      ],
      "text/plain": [
       "          ID  N_VICTIMAS      FECHA   HH TIPO_DE_CALLE  COMUNA       LATITUD  \\\n",
       "0  2016-0001           1 2016-01-01  4.0       AVENIDA       8  -58.47533969   \n",
       "1  2016-0002           1 2016-01-02  1.0      GRAL PAZ       9  -58.50877521   \n",
       "\n",
       "       LONGITUD VICTIMA    ACUSADO AFECTADO_1 AFECTADO_2  \n",
       "0  -34.68757022    MOTO       AUTO       MOTO       AUTO  \n",
       "1  -34.66977709    AUTO  PASAJEROS       AUTO  PASAJEROS  "
      ]
     },
     "execution_count": 42,
     "metadata": {},
     "output_type": "execute_result"
    }
   ],
   "source": [
    "# Cambiamos los nombres de las columnas\n",
    "homicidios_h.rename(columns={'pos x': 'LATITUD', 'pos y': 'LONGITUD'}, inplace=True)\n",
    "homicidios_h.head(2)"
   ]
  },
  {
   "cell_type": "code",
   "execution_count": 43,
   "metadata": {},
   "outputs": [
    {
     "data": {
      "text/plain": [
       "AFECTADO_2\n",
       "AUTO           203\n",
       "PASAJEROS      173\n",
       "CARGAS         146\n",
       "OBJETO FIJO     63\n",
       "MOTO            57\n",
       "SD              23\n",
       "BICICLETA        7\n",
       "MOVIL            3\n",
       "OTRO             3\n",
       "TREN             1\n",
       "Name: count, dtype: int64"
      ]
     },
     "execution_count": 43,
     "metadata": {},
     "output_type": "execute_result"
    }
   ],
   "source": [
    "homicidios_h['AFECTADO_2'].value_counts()"
   ]
  },
  {
   "cell_type": "code",
   "execution_count": 44,
   "metadata": {},
   "outputs": [],
   "source": [
    "# Guardamos los datos\n",
    "homicidios_h.to_csv('CSV\\homicidios_hechos.csv', index=False)"
   ]
  },
  {
   "cell_type": "markdown",
   "metadata": {},
   "source": [
    "### Homicidios - Victimas"
   ]
  },
  {
   "cell_type": "code",
   "execution_count": 45,
   "metadata": {},
   "outputs": [
    {
     "name": "stdout",
     "output_type": "stream",
     "text": [
      "<class 'pandas.core.frame.DataFrame'>\n",
      "RangeIndex: 717 entries, 0 to 716\n",
      "Data columns (total 10 columns):\n",
      " #   Column               Non-Null Count  Dtype         \n",
      "---  ------               --------------  -----         \n",
      " 0   ID_hecho             717 non-null    object        \n",
      " 1   FECHA                717 non-null    datetime64[ns]\n",
      " 2   AAAA                 717 non-null    int64         \n",
      " 3   MM                   717 non-null    int64         \n",
      " 4   DD                   717 non-null    int64         \n",
      " 5   ROL                  706 non-null    object        \n",
      " 6   VICTIMA              708 non-null    object        \n",
      " 7   SEXO                 711 non-null    object        \n",
      " 8   EDAD                 664 non-null    float64       \n",
      " 9   FECHA_FALLECIMIENTO  649 non-null    object        \n",
      "dtypes: datetime64[ns](1), float64(1), int64(3), object(5)\n",
      "memory usage: 56.1+ KB\n"
     ]
    }
   ],
   "source": [
    "homicidios_v.info()"
   ]
  },
  {
   "cell_type": "markdown",
   "metadata": {},
   "source": [
    "Cantidad de entradas y columnas:\n",
    "\n",
    "El conjunto de datos contiene 717 entradas (filas) y 10 columnas.\n",
    "\n",
    "Columnas:\n",
    "\n",
    "- ID_hecho: Parece ser un identificador único para cada evento.\n",
    "- FECHA: Una columna de fecha y hora que indica cuándo ocurrió el evento.\n",
    "- AAAA, MM, DD: Estas columnas parecen ser desgloses de la fecha en año, mes y día, respectivamente. Podrían ser redundantes dado que ya existe la columna 'FECHA'.\n",
    "- ROL: Parece indicar el rol de una persona involucrada en el evento (p. ej., testigo, víctima, perpetrador, etc.).\n",
    "- VICTIMA: Nombre o identificador de la víctima.\n",
    "- SEXO: Género de la víctima o de la persona involucrada.\n",
    "- EDAD: Edad de la víctima o de la persona involucrada.\n",
    "- FECHA_FALLECIMIENTO: Fecha de fallecimiento en caso de que la persona haya muerto como resultado del evento.\n",
    "\n",
    "Valores nulos:\n",
    "\n",
    "- Se observan valores nulos en varias columnas: ROL, VICTIMA, SEXO, EDAD, FECHA_FALLECIMIENTO.\n",
    "- La columna con la mayor cantidad de valores nulos es 'FECHA_FALLECIMIENTO', lo que indica que no todas las entradas implican muertes.\n",
    "\n",
    "Tipos de datos:\n",
    "\n",
    "- La mayoría de las columnas parecen tener tipos de datos adecuados:\n",
    "- 'ID_hecho' es de tipo objeto (posiblemente una cadena).\n",
    "- 'FECHA' es de tipo datetime64.\n",
    "- 'AAAA', 'MM' y 'DD' son de tipo entero.\n",
    "- 'ROL', 'VICTIMA' y 'SEXO' son de tipo objeto (cadenas).\n",
    "- 'EDAD' es de tipo flotante.\n",
    "- 'FECHA_FALLECIMIENTO' es de tipo objeto (posiblemente una cadena)"
   ]
  },
  {
   "cell_type": "code",
   "execution_count": 46,
   "metadata": {},
   "outputs": [
    {
     "name": "stdout",
     "output_type": "stream",
     "text": [
      "Porcentaje de valores duplicados en la columna 'ID_hecho': 2.93%\n"
     ]
    }
   ],
   "source": [
    "porcentaje_valores_duplicados(homicidios_v, 'ID_hecho')"
   ]
  },
  {
   "cell_type": "code",
   "execution_count": 47,
   "metadata": {},
   "outputs": [
    {
     "name": "stdout",
     "output_type": "stream",
     "text": [
      "Porcentaje de valores nulos por columna:\n",
      "ID_hecho: 0.00%\n",
      "FECHA: 0.00%\n",
      "AAAA: 0.00%\n",
      "MM: 0.00%\n",
      "DD: 0.00%\n",
      "ROL: 1.53%\n",
      "VICTIMA: 1.26%\n",
      "SEXO: 0.84%\n",
      "EDAD: 7.39%\n",
      "FECHA_FALLECIMIENTO: 9.48%\n",
      "\n",
      "Total de valores nulos en el DataFrame: 147\n",
      "Porcentaje total de valores nulos en el DataFrame: 2.05%\n"
     ]
    }
   ],
   "source": [
    "porcentaje_valores_nulos(homicidios_v)"
   ]
  },
  {
   "cell_type": "code",
   "execution_count": 48,
   "metadata": {},
   "outputs": [],
   "source": [
    "columnas_eliminar = ['AAAA', 'MM', 'DD', 'FECHA_FALLECIMIENTO']\n",
    "columnas_eliminar = list(set(columnas_eliminar).intersection(homicidios_v.columns))\n",
    "homicidios_v = homicidios_v.drop(columns=columnas_eliminar)"
   ]
  },
  {
   "cell_type": "code",
   "execution_count": 49,
   "metadata": {},
   "outputs": [
    {
     "data": {
      "text/html": [
       "<div>\n",
       "<style scoped>\n",
       "    .dataframe tbody tr th:only-of-type {\n",
       "        vertical-align: middle;\n",
       "    }\n",
       "\n",
       "    .dataframe tbody tr th {\n",
       "        vertical-align: top;\n",
       "    }\n",
       "\n",
       "    .dataframe thead th {\n",
       "        text-align: right;\n",
       "    }\n",
       "</style>\n",
       "<table border=\"1\" class=\"dataframe\">\n",
       "  <thead>\n",
       "    <tr style=\"text-align: right;\">\n",
       "      <th></th>\n",
       "      <th>ID_hecho</th>\n",
       "      <th>FECHA</th>\n",
       "      <th>ROL</th>\n",
       "      <th>VICTIMA</th>\n",
       "      <th>SEXO</th>\n",
       "      <th>EDAD</th>\n",
       "    </tr>\n",
       "  </thead>\n",
       "  <tbody>\n",
       "    <tr>\n",
       "      <th>0</th>\n",
       "      <td>2016-0001</td>\n",
       "      <td>2016-01-01</td>\n",
       "      <td>CONDUCTOR</td>\n",
       "      <td>MOTO</td>\n",
       "      <td>MASCULINO</td>\n",
       "      <td>19.0</td>\n",
       "    </tr>\n",
       "    <tr>\n",
       "      <th>1</th>\n",
       "      <td>2016-0002</td>\n",
       "      <td>2016-01-02</td>\n",
       "      <td>CONDUCTOR</td>\n",
       "      <td>AUTO</td>\n",
       "      <td>MASCULINO</td>\n",
       "      <td>70.0</td>\n",
       "    </tr>\n",
       "  </tbody>\n",
       "</table>\n",
       "</div>"
      ],
      "text/plain": [
       "    ID_hecho      FECHA        ROL VICTIMA       SEXO  EDAD\n",
       "0  2016-0001 2016-01-01  CONDUCTOR    MOTO  MASCULINO  19.0\n",
       "1  2016-0002 2016-01-02  CONDUCTOR    AUTO  MASCULINO  70.0"
      ]
     },
     "execution_count": 49,
     "metadata": {},
     "output_type": "execute_result"
    }
   ],
   "source": [
    "homicidios_v.head(2)"
   ]
  },
  {
   "cell_type": "code",
   "execution_count": 50,
   "metadata": {},
   "outputs": [
    {
     "data": {
      "text/plain": [
       "ROL\n",
       "CONDUCTOR               330\n",
       "PEATON                  267\n",
       "PASAJERO_ACOMPAÑANTE     80\n",
       "CICLISTA                 29\n",
       "Name: count, dtype: int64"
      ]
     },
     "execution_count": 50,
     "metadata": {},
     "output_type": "execute_result"
    }
   ],
   "source": [
    "homicidios_v['ROL'].value_counts()"
   ]
  },
  {
   "cell_type": "code",
   "execution_count": 51,
   "metadata": {},
   "outputs": [
    {
     "data": {
      "text/plain": [
       "VICTIMA\n",
       "MOTO         303\n",
       "PEATON       267\n",
       "AUTO          94\n",
       "BICICLETA     29\n",
       "CARGAS         7\n",
       "PASAJEROS      5\n",
       "MOVIL          3\n",
       "Name: count, dtype: int64"
      ]
     },
     "execution_count": 51,
     "metadata": {},
     "output_type": "execute_result"
    }
   ],
   "source": [
    "homicidios_v['VICTIMA'].value_counts()"
   ]
  },
  {
   "cell_type": "code",
   "execution_count": 52,
   "metadata": {},
   "outputs": [
    {
     "data": {
      "text/plain": [
       "SEXO\n",
       "MASCULINO    545\n",
       "FEMENINO     166\n",
       "Name: count, dtype: int64"
      ]
     },
     "execution_count": 52,
     "metadata": {},
     "output_type": "execute_result"
    }
   ],
   "source": [
    "homicidios_v['SEXO'].value_counts()"
   ]
  },
  {
   "cell_type": "code",
   "execution_count": 53,
   "metadata": {},
   "outputs": [],
   "source": [
    "homicidios_v.to_csv('CSV\\homicidios_victimas.csv', index=False)"
   ]
  }
 ],
 "metadata": {
  "kernelspec": {
   "display_name": "Python 3",
   "language": "python",
   "name": "python3"
  },
  "language_info": {
   "codemirror_mode": {
    "name": "ipython",
    "version": 3
   },
   "file_extension": ".py",
   "mimetype": "text/x-python",
   "name": "python",
   "nbconvert_exporter": "python",
   "pygments_lexer": "ipython3",
   "version": "3.11.8"
  }
 },
 "nbformat": 4,
 "nbformat_minor": 2
}
