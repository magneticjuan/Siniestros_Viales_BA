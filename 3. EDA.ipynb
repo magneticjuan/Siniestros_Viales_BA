{
 "cells": [
  {
   "cell_type": "markdown",
   "metadata": {},
   "source": [
    "# **EDA**\n",
    "\n",
    "En el marco de este proyecto, se llevará a cabo un Análisis Exploratorio de Datos (EDA) sobre un conjunto de datos esencial que abarca información crucial sobre lesiones ocasionadas en siniestros viales ocurridos en la ciudad de Buenos Aires, durante el periodo comprendido desde el año 2019 hasta el año 2021. Este proceso tiene como objetivo principal preparar y organizar los datos para su posterior análisis, lo que permitirá obtener insights significativos que contribuyan a mejorar la seguridad vial en esta área geográfica específica. Asimismo, se realizará un análisis del dataset \"homicidos\", el cual contiene datos detallados sobre homicidios asociados a incidentes viales en la Ciudad, abarcando el período comprendido entre los años 2016 y 2021. Este conjunto de datos proporciona información crítica, incluyendo fechas, ubicaciones y tipos de transporte involucrados en cada evento, lo que permitirá un análisis exhaustivo para extraer conocimientos relevantes y establecer medidas preventivas eficaces.\n",
    "\n",
    "Adicionalmente se ira comentando linea por linea, lo que esta sucediendo en cada linea de codigo, la razon por la que realizamos ese proceso de y un analisis de la informacion que presentaremos"
   ]
  },
  {
   "cell_type": "markdown",
   "metadata": {},
   "source": [
    "## 1. Importacion de librerias"
   ]
  },
  {
   "cell_type": "code",
   "execution_count": 88,
   "metadata": {},
   "outputs": [],
   "source": [
    "import pandas as pd\n",
    "import seaborn as sns\n",
    "import matplotlib.pyplot as plt"
   ]
  },
  {
   "cell_type": "markdown",
   "metadata": {},
   "source": [
    "## 2. Cargamos los datos"
   ]
  },
  {
   "cell_type": "code",
   "execution_count": 64,
   "metadata": {},
   "outputs": [],
   "source": [
    "homcicidios_hechos = pd.read_csv('CSV\\homicidios_hechos.csv')\n",
    "homicidios_victimas = pd.read_csv('CSV\\homicidios_victimas.csv')\n",
    "lesiones_hechos = pd.read_csv('CSV\\lesiones_hechos.csv')\n",
    "lesiones_victimas = pd.read_csv('CSV\\lesiones_victimas.csv')"
   ]
  },
  {
   "cell_type": "code",
   "execution_count": 65,
   "metadata": {},
   "outputs": [
    {
     "data": {
      "text/html": [
       "<div>\n",
       "<style scoped>\n",
       "    .dataframe tbody tr th:only-of-type {\n",
       "        vertical-align: middle;\n",
       "    }\n",
       "\n",
       "    .dataframe tbody tr th {\n",
       "        vertical-align: top;\n",
       "    }\n",
       "\n",
       "    .dataframe thead th {\n",
       "        text-align: right;\n",
       "    }\n",
       "</style>\n",
       "<table border=\"1\" class=\"dataframe\">\n",
       "  <thead>\n",
       "    <tr style=\"text-align: right;\">\n",
       "      <th></th>\n",
       "      <th>ID</th>\n",
       "      <th>N_VICTIMAS</th>\n",
       "      <th>FECHA</th>\n",
       "      <th>HH</th>\n",
       "      <th>TIPO_DE_CALLE</th>\n",
       "      <th>COMUNA</th>\n",
       "      <th>LATITUD</th>\n",
       "      <th>LONGITUD</th>\n",
       "      <th>VICTIMA</th>\n",
       "      <th>ACUSADO</th>\n",
       "      <th>AFECTADO_1</th>\n",
       "      <th>AFECTADO_2</th>\n",
       "    </tr>\n",
       "  </thead>\n",
       "  <tbody>\n",
       "    <tr>\n",
       "      <th>0</th>\n",
       "      <td>2016-0001</td>\n",
       "      <td>1</td>\n",
       "      <td>2016-01-01</td>\n",
       "      <td>4.0</td>\n",
       "      <td>AVENIDA</td>\n",
       "      <td>8</td>\n",
       "      <td>-58.47533969</td>\n",
       "      <td>-34.68757022</td>\n",
       "      <td>MOTO</td>\n",
       "      <td>AUTO</td>\n",
       "      <td>MOTO</td>\n",
       "      <td>AUTO</td>\n",
       "    </tr>\n",
       "    <tr>\n",
       "      <th>1</th>\n",
       "      <td>2016-0002</td>\n",
       "      <td>1</td>\n",
       "      <td>2016-01-02</td>\n",
       "      <td>1.0</td>\n",
       "      <td>GRAL PAZ</td>\n",
       "      <td>9</td>\n",
       "      <td>-58.50877521</td>\n",
       "      <td>-34.66977709</td>\n",
       "      <td>AUTO</td>\n",
       "      <td>PASAJEROS</td>\n",
       "      <td>AUTO</td>\n",
       "      <td>PASAJEROS</td>\n",
       "    </tr>\n",
       "    <tr>\n",
       "      <th>2</th>\n",
       "      <td>2016-0003</td>\n",
       "      <td>1</td>\n",
       "      <td>2016-01-03</td>\n",
       "      <td>7.0</td>\n",
       "      <td>AVENIDA</td>\n",
       "      <td>1</td>\n",
       "      <td>-58.39040293</td>\n",
       "      <td>-34.63189362</td>\n",
       "      <td>MOTO</td>\n",
       "      <td>AUTO</td>\n",
       "      <td>MOTO</td>\n",
       "      <td>AUTO</td>\n",
       "    </tr>\n",
       "  </tbody>\n",
       "</table>\n",
       "</div>"
      ],
      "text/plain": [
       "          ID  N_VICTIMAS       FECHA   HH TIPO_DE_CALLE  COMUNA       LATITUD  \\\n",
       "0  2016-0001           1  2016-01-01  4.0       AVENIDA       8  -58.47533969   \n",
       "1  2016-0002           1  2016-01-02  1.0      GRAL PAZ       9  -58.50877521   \n",
       "2  2016-0003           1  2016-01-03  7.0       AVENIDA       1  -58.39040293   \n",
       "\n",
       "       LONGITUD VICTIMA    ACUSADO AFECTADO_1 AFECTADO_2  \n",
       "0  -34.68757022    MOTO       AUTO       MOTO       AUTO  \n",
       "1  -34.66977709    AUTO  PASAJEROS       AUTO  PASAJEROS  \n",
       "2  -34.63189362    MOTO       AUTO       MOTO       AUTO  "
      ]
     },
     "execution_count": 65,
     "metadata": {},
     "output_type": "execute_result"
    }
   ],
   "source": [
    "homcicidios_hechos.head(3)"
   ]
  },
  {
   "cell_type": "code",
   "execution_count": 66,
   "metadata": {},
   "outputs": [
    {
     "data": {
      "text/html": [
       "<div>\n",
       "<style scoped>\n",
       "    .dataframe tbody tr th:only-of-type {\n",
       "        vertical-align: middle;\n",
       "    }\n",
       "\n",
       "    .dataframe tbody tr th {\n",
       "        vertical-align: top;\n",
       "    }\n",
       "\n",
       "    .dataframe thead th {\n",
       "        text-align: right;\n",
       "    }\n",
       "</style>\n",
       "<table border=\"1\" class=\"dataframe\">\n",
       "  <thead>\n",
       "    <tr style=\"text-align: right;\">\n",
       "      <th></th>\n",
       "      <th>ID_hecho</th>\n",
       "      <th>FECHA</th>\n",
       "      <th>ROL</th>\n",
       "      <th>VICTIMA</th>\n",
       "      <th>SEXO</th>\n",
       "      <th>EDAD</th>\n",
       "    </tr>\n",
       "  </thead>\n",
       "  <tbody>\n",
       "    <tr>\n",
       "      <th>0</th>\n",
       "      <td>2016-0001</td>\n",
       "      <td>2016-01-01</td>\n",
       "      <td>CONDUCTOR</td>\n",
       "      <td>MOTO</td>\n",
       "      <td>MASCULINO</td>\n",
       "      <td>19.0</td>\n",
       "    </tr>\n",
       "    <tr>\n",
       "      <th>1</th>\n",
       "      <td>2016-0002</td>\n",
       "      <td>2016-01-02</td>\n",
       "      <td>CONDUCTOR</td>\n",
       "      <td>AUTO</td>\n",
       "      <td>MASCULINO</td>\n",
       "      <td>70.0</td>\n",
       "    </tr>\n",
       "    <tr>\n",
       "      <th>2</th>\n",
       "      <td>2016-0003</td>\n",
       "      <td>2016-01-03</td>\n",
       "      <td>CONDUCTOR</td>\n",
       "      <td>MOTO</td>\n",
       "      <td>MASCULINO</td>\n",
       "      <td>30.0</td>\n",
       "    </tr>\n",
       "  </tbody>\n",
       "</table>\n",
       "</div>"
      ],
      "text/plain": [
       "    ID_hecho       FECHA        ROL VICTIMA       SEXO  EDAD\n",
       "0  2016-0001  2016-01-01  CONDUCTOR    MOTO  MASCULINO  19.0\n",
       "1  2016-0002  2016-01-02  CONDUCTOR    AUTO  MASCULINO  70.0\n",
       "2  2016-0003  2016-01-03  CONDUCTOR    MOTO  MASCULINO  30.0"
      ]
     },
     "execution_count": 66,
     "metadata": {},
     "output_type": "execute_result"
    }
   ],
   "source": [
    "homicidios_victimas.head(3)"
   ]
  },
  {
   "cell_type": "code",
   "execution_count": 67,
   "metadata": {},
   "outputs": [
    {
     "data": {
      "text/html": [
       "<div>\n",
       "<style scoped>\n",
       "    .dataframe tbody tr th:only-of-type {\n",
       "        vertical-align: middle;\n",
       "    }\n",
       "\n",
       "    .dataframe tbody tr th {\n",
       "        vertical-align: top;\n",
       "    }\n",
       "\n",
       "    .dataframe thead th {\n",
       "        text-align: right;\n",
       "    }\n",
       "</style>\n",
       "<table border=\"1\" class=\"dataframe\">\n",
       "  <thead>\n",
       "    <tr style=\"text-align: right;\">\n",
       "      <th></th>\n",
       "      <th>ID</th>\n",
       "      <th>N_VICTIMAS</th>\n",
       "      <th>FECHA</th>\n",
       "      <th>FRANJA_HORA</th>\n",
       "      <th>COMUNA</th>\n",
       "      <th>TIPO_DE_CALLE</th>\n",
       "      <th>LONGITUD</th>\n",
       "      <th>LATITUD</th>\n",
       "      <th>VICTIMA</th>\n",
       "      <th>ACUSADO</th>\n",
       "      <th>GRAVEDAD</th>\n",
       "      <th>AFECTADO_1</th>\n",
       "      <th>AFECTADO_2</th>\n",
       "    </tr>\n",
       "  </thead>\n",
       "  <tbody>\n",
       "    <tr>\n",
       "      <th>0</th>\n",
       "      <td>LC-2019-0000179</td>\n",
       "      <td>1</td>\n",
       "      <td>2019-01-01</td>\n",
       "      <td>9.0</td>\n",
       "      <td>14</td>\n",
       "      <td>NaN</td>\n",
       "      <td>-58.408911</td>\n",
       "      <td>-34.559658</td>\n",
       "      <td>CICLISTA</td>\n",
       "      <td>NaN</td>\n",
       "      <td>NaN</td>\n",
       "      <td>CICLISTA</td>\n",
       "      <td>NaN</td>\n",
       "    </tr>\n",
       "    <tr>\n",
       "      <th>1</th>\n",
       "      <td>LC-2019-0000053</td>\n",
       "      <td>1</td>\n",
       "      <td>2019-01-01</td>\n",
       "      <td>1.0</td>\n",
       "      <td>8</td>\n",
       "      <td>NaN</td>\n",
       "      <td>-58.443510</td>\n",
       "      <td>-34.669125</td>\n",
       "      <td>AUTO</td>\n",
       "      <td>NaN</td>\n",
       "      <td>NaN</td>\n",
       "      <td>AUTO</td>\n",
       "      <td>NaN</td>\n",
       "    </tr>\n",
       "    <tr>\n",
       "      <th>2</th>\n",
       "      <td>LC-2019-0000063</td>\n",
       "      <td>1</td>\n",
       "      <td>2019-01-01</td>\n",
       "      <td>2.0</td>\n",
       "      <td>8</td>\n",
       "      <td>NaN</td>\n",
       "      <td>-58.468335</td>\n",
       "      <td>-34.677556</td>\n",
       "      <td>NaN</td>\n",
       "      <td>NaN</td>\n",
       "      <td>NaN</td>\n",
       "      <td>NaN</td>\n",
       "      <td>NaN</td>\n",
       "    </tr>\n",
       "  </tbody>\n",
       "</table>\n",
       "</div>"
      ],
      "text/plain": [
       "                ID  N_VICTIMAS       FECHA  FRANJA_HORA COMUNA TIPO_DE_CALLE  \\\n",
       "0  LC-2019-0000179           1  2019-01-01          9.0     14           NaN   \n",
       "1  LC-2019-0000053           1  2019-01-01          1.0      8           NaN   \n",
       "2  LC-2019-0000063           1  2019-01-01          2.0      8           NaN   \n",
       "\n",
       "    LONGITUD    LATITUD   VICTIMA ACUSADO GRAVEDAD AFECTADO_1 AFECTADO_2  \n",
       "0 -58.408911 -34.559658  CICLISTA     NaN      NaN   CICLISTA        NaN  \n",
       "1 -58.443510 -34.669125      AUTO     NaN      NaN       AUTO        NaN  \n",
       "2 -58.468335 -34.677556       NaN     NaN      NaN        NaN        NaN  "
      ]
     },
     "execution_count": 67,
     "metadata": {},
     "output_type": "execute_result"
    }
   ],
   "source": [
    "lesiones_hechos.head(3)"
   ]
  },
  {
   "cell_type": "code",
   "execution_count": 68,
   "metadata": {},
   "outputs": [
    {
     "data": {
      "text/html": [
       "<div>\n",
       "<style scoped>\n",
       "    .dataframe tbody tr th:only-of-type {\n",
       "        vertical-align: middle;\n",
       "    }\n",
       "\n",
       "    .dataframe tbody tr th {\n",
       "        vertical-align: top;\n",
       "    }\n",
       "\n",
       "    .dataframe thead th {\n",
       "        text-align: right;\n",
       "    }\n",
       "</style>\n",
       "<table border=\"1\" class=\"dataframe\">\n",
       "  <thead>\n",
       "    <tr style=\"text-align: right;\">\n",
       "      <th></th>\n",
       "      <th>ID_hecho</th>\n",
       "      <th>FECHA</th>\n",
       "      <th>VEHICULO_VICTIMA</th>\n",
       "      <th>SEXO</th>\n",
       "      <th>EDAD</th>\n",
       "      <th>GRAVEDAD</th>\n",
       "    </tr>\n",
       "  </thead>\n",
       "  <tbody>\n",
       "    <tr>\n",
       "      <th>0</th>\n",
       "      <td>LC-2019-0000053</td>\n",
       "      <td>2019-01-01</td>\n",
       "      <td>NAN</td>\n",
       "      <td>MASCULINO</td>\n",
       "      <td>57.0</td>\n",
       "      <td>NAN</td>\n",
       "    </tr>\n",
       "    <tr>\n",
       "      <th>1</th>\n",
       "      <td>LC-2019-0000063</td>\n",
       "      <td>2019-01-01</td>\n",
       "      <td>NAN</td>\n",
       "      <td>NAN</td>\n",
       "      <td>NaN</td>\n",
       "      <td>NAN</td>\n",
       "    </tr>\n",
       "    <tr>\n",
       "      <th>2</th>\n",
       "      <td>LC-2019-0000079</td>\n",
       "      <td>2019-01-01</td>\n",
       "      <td>NAN</td>\n",
       "      <td>MASCULINO</td>\n",
       "      <td>NaN</td>\n",
       "      <td>NAN</td>\n",
       "    </tr>\n",
       "  </tbody>\n",
       "</table>\n",
       "</div>"
      ],
      "text/plain": [
       "          ID_hecho      FECHA  VEHICULO_VICTIMA       SEXO  EDAD GRAVEDAD\n",
       "0  LC-2019-0000053  2019-01-01              NAN  MASCULINO  57.0      NAN\n",
       "1  LC-2019-0000063  2019-01-01              NAN        NAN   NaN      NAN\n",
       "2  LC-2019-0000079  2019-01-01              NAN  MASCULINO   NaN      NAN"
      ]
     },
     "execution_count": 68,
     "metadata": {},
     "output_type": "execute_result"
    }
   ],
   "source": [
    "lesiones_victimas.head(3)"
   ]
  },
  {
   "cell_type": "markdown",
   "metadata": {},
   "source": [
    "# 4. Unimos las tablas de hechos y de victimas para estandarizar la información"
   ]
  },
  {
   "cell_type": "code",
   "execution_count": 69,
   "metadata": {},
   "outputs": [
    {
     "data": {
      "text/html": [
       "<div>\n",
       "<style scoped>\n",
       "    .dataframe tbody tr th:only-of-type {\n",
       "        vertical-align: middle;\n",
       "    }\n",
       "\n",
       "    .dataframe tbody tr th {\n",
       "        vertical-align: top;\n",
       "    }\n",
       "\n",
       "    .dataframe thead th {\n",
       "        text-align: right;\n",
       "    }\n",
       "</style>\n",
       "<table border=\"1\" class=\"dataframe\">\n",
       "  <thead>\n",
       "    <tr style=\"text-align: right;\">\n",
       "      <th></th>\n",
       "      <th>ID</th>\n",
       "      <th>N_VICTIMAS</th>\n",
       "      <th>FECHA</th>\n",
       "      <th>HH</th>\n",
       "      <th>TIPO_DE_CALLE</th>\n",
       "      <th>COMUNA</th>\n",
       "      <th>LATITUD</th>\n",
       "      <th>LONGITUD</th>\n",
       "      <th>VICTIMA</th>\n",
       "      <th>ACUSADO</th>\n",
       "      <th>AFECTADO_1</th>\n",
       "      <th>AFECTADO_2</th>\n",
       "      <th>FRANJA_HORA</th>\n",
       "      <th>GRAVEDAD</th>\n",
       "    </tr>\n",
       "  </thead>\n",
       "  <tbody>\n",
       "    <tr>\n",
       "      <th>0</th>\n",
       "      <td>2016-0001</td>\n",
       "      <td>1</td>\n",
       "      <td>2016-01-01</td>\n",
       "      <td>4.0</td>\n",
       "      <td>AVENIDA</td>\n",
       "      <td>8</td>\n",
       "      <td>-58.47533969</td>\n",
       "      <td>-34.68757022</td>\n",
       "      <td>MOTO</td>\n",
       "      <td>AUTO</td>\n",
       "      <td>MOTO</td>\n",
       "      <td>AUTO</td>\n",
       "      <td>NaN</td>\n",
       "      <td>NaN</td>\n",
       "    </tr>\n",
       "    <tr>\n",
       "      <th>1</th>\n",
       "      <td>2016-0002</td>\n",
       "      <td>1</td>\n",
       "      <td>2016-01-02</td>\n",
       "      <td>1.0</td>\n",
       "      <td>GRAL PAZ</td>\n",
       "      <td>9</td>\n",
       "      <td>-58.50877521</td>\n",
       "      <td>-34.66977709</td>\n",
       "      <td>AUTO</td>\n",
       "      <td>PASAJEROS</td>\n",
       "      <td>AUTO</td>\n",
       "      <td>PASAJEROS</td>\n",
       "      <td>NaN</td>\n",
       "      <td>NaN</td>\n",
       "    </tr>\n",
       "  </tbody>\n",
       "</table>\n",
       "</div>"
      ],
      "text/plain": [
       "          ID  N_VICTIMAS       FECHA   HH TIPO_DE_CALLE COMUNA       LATITUD  \\\n",
       "0  2016-0001           1  2016-01-01  4.0       AVENIDA      8  -58.47533969   \n",
       "1  2016-0002           1  2016-01-02  1.0      GRAL PAZ      9  -58.50877521   \n",
       "\n",
       "       LONGITUD VICTIMA    ACUSADO AFECTADO_1 AFECTADO_2  FRANJA_HORA GRAVEDAD  \n",
       "0  -34.68757022    MOTO       AUTO       MOTO       AUTO          NaN      NaN  \n",
       "1  -34.66977709    AUTO  PASAJEROS       AUTO  PASAJEROS          NaN      NaN  "
      ]
     },
     "execution_count": 69,
     "metadata": {},
     "output_type": "execute_result"
    }
   ],
   "source": [
    "# Usamos el metodo concat por que al tener dimensiones diferentes el Join genera errores\n",
    "\n",
    "hechos = pd.concat([homcicidios_hechos, lesiones_hechos], ignore_index=True)\n",
    "hechos.head(2)"
   ]
  },
  {
   "cell_type": "code",
   "execution_count": 70,
   "metadata": {},
   "outputs": [
    {
     "data": {
      "text/html": [
       "<div>\n",
       "<style scoped>\n",
       "    .dataframe tbody tr th:only-of-type {\n",
       "        vertical-align: middle;\n",
       "    }\n",
       "\n",
       "    .dataframe tbody tr th {\n",
       "        vertical-align: top;\n",
       "    }\n",
       "\n",
       "    .dataframe thead th {\n",
       "        text-align: right;\n",
       "    }\n",
       "</style>\n",
       "<table border=\"1\" class=\"dataframe\">\n",
       "  <thead>\n",
       "    <tr style=\"text-align: right;\">\n",
       "      <th></th>\n",
       "      <th>ID_hecho</th>\n",
       "      <th>FECHA</th>\n",
       "      <th>ROL</th>\n",
       "      <th>VICTIMA</th>\n",
       "      <th>SEXO</th>\n",
       "      <th>EDAD</th>\n",
       "      <th>FECHA</th>\n",
       "      <th>VEHICULO_VICTIMA</th>\n",
       "      <th>GRAVEDAD</th>\n",
       "    </tr>\n",
       "  </thead>\n",
       "  <tbody>\n",
       "    <tr>\n",
       "      <th>0</th>\n",
       "      <td>2016-0001</td>\n",
       "      <td>2016-01-01</td>\n",
       "      <td>CONDUCTOR</td>\n",
       "      <td>MOTO</td>\n",
       "      <td>MASCULINO</td>\n",
       "      <td>19.0</td>\n",
       "      <td>NaN</td>\n",
       "      <td>NaN</td>\n",
       "      <td>NaN</td>\n",
       "    </tr>\n",
       "    <tr>\n",
       "      <th>1</th>\n",
       "      <td>2016-0002</td>\n",
       "      <td>2016-01-02</td>\n",
       "      <td>CONDUCTOR</td>\n",
       "      <td>AUTO</td>\n",
       "      <td>MASCULINO</td>\n",
       "      <td>70.0</td>\n",
       "      <td>NaN</td>\n",
       "      <td>NaN</td>\n",
       "      <td>NaN</td>\n",
       "    </tr>\n",
       "    <tr>\n",
       "      <th>2</th>\n",
       "      <td>2016-0003</td>\n",
       "      <td>2016-01-03</td>\n",
       "      <td>CONDUCTOR</td>\n",
       "      <td>MOTO</td>\n",
       "      <td>MASCULINO</td>\n",
       "      <td>30.0</td>\n",
       "      <td>NaN</td>\n",
       "      <td>NaN</td>\n",
       "      <td>NaN</td>\n",
       "    </tr>\n",
       "  </tbody>\n",
       "</table>\n",
       "</div>"
      ],
      "text/plain": [
       "    ID_hecho       FECHA        ROL VICTIMA       SEXO  EDAD FECHA   \\\n",
       "0  2016-0001  2016-01-01  CONDUCTOR    MOTO  MASCULINO  19.0    NaN   \n",
       "1  2016-0002  2016-01-02  CONDUCTOR    AUTO  MASCULINO  70.0    NaN   \n",
       "2  2016-0003  2016-01-03  CONDUCTOR    MOTO  MASCULINO  30.0    NaN   \n",
       "\n",
       "  VEHICULO_VICTIMA GRAVEDAD  \n",
       "0              NaN      NaN  \n",
       "1              NaN      NaN  \n",
       "2              NaN      NaN  "
      ]
     },
     "execution_count": 70,
     "metadata": {},
     "output_type": "execute_result"
    }
   ],
   "source": [
    "victimas = pd.concat([homicidios_victimas, lesiones_victimas], ignore_index=True)\n",
    "victimas.head(3)"
   ]
  },
  {
   "cell_type": "markdown",
   "metadata": {},
   "source": [
    "## 5. Transformaciones y exploracion de datos"
   ]
  },
  {
   "cell_type": "code",
   "execution_count": 71,
   "metadata": {},
   "outputs": [],
   "source": [
    "# Creamos una función que nos permita calcular los datos duplicados para los dataframes\n",
    "\n",
    "def porcentaje_valores_duplicados(dataframe, columna):\n",
    "    total_filas = len(dataframe)\n",
    "    valores_duplicados = dataframe.duplicated(subset=[columna]).sum()\n",
    "    porcentaje_duplicados = (valores_duplicados / total_filas) * 100\n",
    "    print(f\"Porcentaje de valores duplicados en la columna '{columna}': {porcentaje_duplicados:.2f}%\")"
   ]
  },
  {
   "cell_type": "code",
   "execution_count": 72,
   "metadata": {},
   "outputs": [],
   "source": [
    "# Creamos una función que nos permita calcular los datos nulos para los dataframes\n",
    "def porcentaje_valores_nulos(dataframe):\n",
    "    total_filas = len(dataframe)\n",
    "    print(\"Porcentaje de valores nulos por columna:\")\n",
    "    for columna in dataframe.columns:\n",
    "        valores_nulos = dataframe[columna].isnull().sum()\n",
    "        porcentaje_nulos = (valores_nulos / total_filas) * 100\n",
    "        print(f\"{columna}: {porcentaje_nulos:.2f}%\")\n",
    "\n",
    "    total_valores_nulos = dataframe.isnull().sum().sum()\n",
    "    porcentaje_total_nulos = (total_valores_nulos / (total_filas * len(dataframe.columns))) * 100\n",
    "    print(f\"\\nTotal de valores nulos en el DataFrame: {total_valores_nulos}\")\n",
    "    print(f\"Porcentaje total de valores nulos en el DataFrame: {porcentaje_total_nulos:.2f}%\")"
   ]
  },
  {
   "cell_type": "code",
   "execution_count": 73,
   "metadata": {},
   "outputs": [
    {
     "name": "stdout",
     "output_type": "stream",
     "text": [
      "Porcentaje de valores duplicados en la columna 'ID_hecho': 13.56%\n"
     ]
    }
   ],
   "source": [
    "porcentaje_valores_duplicados(victimas, 'ID_hecho')"
   ]
  },
  {
   "cell_type": "code",
   "execution_count": 74,
   "metadata": {},
   "outputs": [
    {
     "name": "stdout",
     "output_type": "stream",
     "text": [
      "Porcentaje de valores duplicados en la columna 'ID': 0.00%\n"
     ]
    }
   ],
   "source": [
    "porcentaje_valores_duplicados(hechos, 'ID')"
   ]
  },
  {
   "cell_type": "code",
   "execution_count": 75,
   "metadata": {},
   "outputs": [
    {
     "name": "stdout",
     "output_type": "stream",
     "text": [
      "Porcentaje de valores nulos por columna:\n",
      "ID_hecho: 0.00%\n",
      "FECHA: 97.47%\n",
      "ROL: 97.51%\n",
      "VICTIMA: 97.50%\n",
      "SEXO: 0.02%\n",
      "EDAD: 15.97%\n",
      "FECHA : 2.53%\n",
      "VEHICULO_VICTIMA: 2.53%\n",
      "GRAVEDAD: 2.53%\n",
      "\n",
      "Total de valores nulos en el DataFrame: 89516\n",
      "Porcentaje total de valores nulos en el DataFrame: 35.12%\n"
     ]
    }
   ],
   "source": [
    "porcentaje_valores_nulos(victimas)"
   ]
  },
  {
   "cell_type": "code",
   "execution_count": 76,
   "metadata": {},
   "outputs": [
    {
     "name": "stdout",
     "output_type": "stream",
     "text": [
      "Porcentaje de valores nulos por columna:\n",
      "ID: 0.00%\n",
      "N_VICTIMAS: 0.00%\n",
      "FECHA: 0.00%\n",
      "HH: 97.16%\n",
      "TIPO_DE_CALLE: 45.12%\n",
      "COMUNA: 4.15%\n",
      "LATITUD: 6.01%\n",
      "LONGITUD: 6.01%\n",
      "VICTIMA: 43.88%\n",
      "ACUSADO: 62.54%\n",
      "AFECTADO_1: 43.84%\n",
      "AFECTADO_2: 62.52%\n",
      "FRANJA_HORA: 2.88%\n",
      "GRAVEDAD: 97.36%\n",
      "\n",
      "Total de valores nulos en el DataFrame: 115419\n",
      "Porcentaje total de valores nulos en el DataFrame: 33.68%\n"
     ]
    }
   ],
   "source": [
    "porcentaje_valores_nulos(hechos)"
   ]
  },
  {
   "cell_type": "code",
   "execution_count": 77,
   "metadata": {},
   "outputs": [],
   "source": [
    "# Encuentra los duplicados basados en la columna 'ID_hecho' y todos los valores de las columnas\n",
    "duplicados = victimas[victimas.duplicated(subset=None, keep=False)]\n",
    "\n",
    "# Encuentra los duplicados basados únicamente en la columna 'ID_hecho'\n",
    "duplicados_id_hecho = duplicados[duplicados.duplicated(subset=['ID_hecho'], keep=False)]\n",
    "\n",
    "# Encuentra los duplicados basados únicamente en el contenido de las filas\n",
    "duplicados_completos = duplicados_id_hecho[duplicados_id_hecho.duplicated(subset=None, keep=False)]\n",
    "\n",
    "# Filtra los duplicados completos del DataFrame original\n",
    "victimas = victimas.drop_duplicates(subset=None, keep=False)\n",
    "\n",
    "# Filtra los posibles duplicados del DataFrame original\n",
    "posibles_duplicados = duplicados_id_hecho.drop_duplicates(subset=None, keep=False)"
   ]
  },
  {
   "cell_type": "code",
   "execution_count": 78,
   "metadata": {},
   "outputs": [
    {
     "data": {
      "text/html": [
       "<div>\n",
       "<style scoped>\n",
       "    .dataframe tbody tr th:only-of-type {\n",
       "        vertical-align: middle;\n",
       "    }\n",
       "\n",
       "    .dataframe tbody tr th {\n",
       "        vertical-align: top;\n",
       "    }\n",
       "\n",
       "    .dataframe thead th {\n",
       "        text-align: right;\n",
       "    }\n",
       "</style>\n",
       "<table border=\"1\" class=\"dataframe\">\n",
       "  <thead>\n",
       "    <tr style=\"text-align: right;\">\n",
       "      <th></th>\n",
       "      <th>ID_hecho</th>\n",
       "      <th>FECHA</th>\n",
       "      <th>ROL</th>\n",
       "      <th>VICTIMA</th>\n",
       "      <th>SEXO</th>\n",
       "      <th>EDAD</th>\n",
       "      <th>FECHA</th>\n",
       "      <th>VEHICULO_VICTIMA</th>\n",
       "      <th>GRAVEDAD</th>\n",
       "    </tr>\n",
       "  </thead>\n",
       "  <tbody>\n",
       "  </tbody>\n",
       "</table>\n",
       "</div>"
      ],
      "text/plain": [
       "Empty DataFrame\n",
       "Columns: [ID_hecho, FECHA, ROL, VICTIMA, SEXO, EDAD, FECHA , VEHICULO_VICTIMA, GRAVEDAD]\n",
       "Index: []"
      ]
     },
     "execution_count": 78,
     "metadata": {},
     "output_type": "execute_result"
    }
   ],
   "source": [
    "posibles_duplicados.head(3)"
   ]
  },
  {
   "cell_type": "code",
   "execution_count": 79,
   "metadata": {},
   "outputs": [
    {
     "data": {
      "text/html": [
       "<div>\n",
       "<style scoped>\n",
       "    .dataframe tbody tr th:only-of-type {\n",
       "        vertical-align: middle;\n",
       "    }\n",
       "\n",
       "    .dataframe tbody tr th {\n",
       "        vertical-align: top;\n",
       "    }\n",
       "\n",
       "    .dataframe thead th {\n",
       "        text-align: right;\n",
       "    }\n",
       "</style>\n",
       "<table border=\"1\" class=\"dataframe\">\n",
       "  <thead>\n",
       "    <tr style=\"text-align: right;\">\n",
       "      <th></th>\n",
       "      <th>ID_hecho</th>\n",
       "      <th>FECHA</th>\n",
       "      <th>ROL</th>\n",
       "      <th>VICTIMA</th>\n",
       "      <th>SEXO</th>\n",
       "      <th>EDAD</th>\n",
       "      <th>FECHA</th>\n",
       "      <th>VEHICULO_VICTIMA</th>\n",
       "      <th>GRAVEDAD</th>\n",
       "    </tr>\n",
       "  </thead>\n",
       "  <tbody>\n",
       "    <tr>\n",
       "      <th>0</th>\n",
       "      <td>2016-0001</td>\n",
       "      <td>2016-01-01</td>\n",
       "      <td>CONDUCTOR</td>\n",
       "      <td>MOTO</td>\n",
       "      <td>MASCULINO</td>\n",
       "      <td>19.0</td>\n",
       "      <td>NaN</td>\n",
       "      <td>NaN</td>\n",
       "      <td>NaN</td>\n",
       "    </tr>\n",
       "    <tr>\n",
       "      <th>1</th>\n",
       "      <td>2016-0002</td>\n",
       "      <td>2016-01-02</td>\n",
       "      <td>CONDUCTOR</td>\n",
       "      <td>AUTO</td>\n",
       "      <td>MASCULINO</td>\n",
       "      <td>70.0</td>\n",
       "      <td>NaN</td>\n",
       "      <td>NaN</td>\n",
       "      <td>NaN</td>\n",
       "    </tr>\n",
       "  </tbody>\n",
       "</table>\n",
       "</div>"
      ],
      "text/plain": [
       "    ID_hecho       FECHA        ROL VICTIMA       SEXO  EDAD FECHA   \\\n",
       "0  2016-0001  2016-01-01  CONDUCTOR    MOTO  MASCULINO  19.0    NaN   \n",
       "1  2016-0002  2016-01-02  CONDUCTOR    AUTO  MASCULINO  70.0    NaN   \n",
       "\n",
       "  VEHICULO_VICTIMA GRAVEDAD  \n",
       "0              NaN      NaN  \n",
       "1              NaN      NaN  "
      ]
     },
     "execution_count": 79,
     "metadata": {},
     "output_type": "execute_result"
    }
   ],
   "source": [
    "victimas.head(2)"
   ]
  },
  {
   "cell_type": "markdown",
   "metadata": {},
   "source": [
    "## 6. Información relevante"
   ]
  },
  {
   "cell_type": "markdown",
   "metadata": {},
   "source": [
    "### 6.1 Dataframe Victimas"
   ]
  },
  {
   "cell_type": "code",
   "execution_count": 80,
   "metadata": {},
   "outputs": [
    {
     "data": {
      "text/html": [
       "<div>\n",
       "<style scoped>\n",
       "    .dataframe tbody tr th:only-of-type {\n",
       "        vertical-align: middle;\n",
       "    }\n",
       "\n",
       "    .dataframe tbody tr th {\n",
       "        vertical-align: top;\n",
       "    }\n",
       "\n",
       "    .dataframe thead th {\n",
       "        text-align: right;\n",
       "    }\n",
       "</style>\n",
       "<table border=\"1\" class=\"dataframe\">\n",
       "  <thead>\n",
       "    <tr style=\"text-align: right;\">\n",
       "      <th></th>\n",
       "      <th>EDAD</th>\n",
       "    </tr>\n",
       "  </thead>\n",
       "  <tbody>\n",
       "    <tr>\n",
       "      <th>count</th>\n",
       "      <td>23071.000000</td>\n",
       "    </tr>\n",
       "    <tr>\n",
       "      <th>mean</th>\n",
       "      <td>37.859434</td>\n",
       "    </tr>\n",
       "    <tr>\n",
       "      <th>std</th>\n",
       "      <td>15.392044</td>\n",
       "    </tr>\n",
       "    <tr>\n",
       "      <th>min</th>\n",
       "      <td>0.000000</td>\n",
       "    </tr>\n",
       "    <tr>\n",
       "      <th>25%</th>\n",
       "      <td>27.000000</td>\n",
       "    </tr>\n",
       "    <tr>\n",
       "      <th>50%</th>\n",
       "      <td>35.000000</td>\n",
       "    </tr>\n",
       "    <tr>\n",
       "      <th>75%</th>\n",
       "      <td>46.000000</td>\n",
       "    </tr>\n",
       "    <tr>\n",
       "      <th>max</th>\n",
       "      <td>100.000000</td>\n",
       "    </tr>\n",
       "  </tbody>\n",
       "</table>\n",
       "</div>"
      ],
      "text/plain": [
       "               EDAD\n",
       "count  23071.000000\n",
       "mean      37.859434\n",
       "std       15.392044\n",
       "min        0.000000\n",
       "25%       27.000000\n",
       "50%       35.000000\n",
       "75%       46.000000\n",
       "max      100.000000"
      ]
     },
     "execution_count": 80,
     "metadata": {},
     "output_type": "execute_result"
    }
   ],
   "source": [
    "victimas.describe()"
   ]
  },
  {
   "cell_type": "markdown",
   "metadata": {},
   "source": [
    "El análisis detallado de la información proporcionada sobre las víctimas de siniestros viales se puede desglosar de la siguiente manera:\n",
    "\n",
    "1. **Cantidad de Datos (count):** Hay un total de 23,071 registros de víctimas de siniestros viales en el conjunto de datos.\n",
    "\n",
    "2. **Media (mean):** La edad media de las víctimas es de aproximadamente 37.86 años. Esto indica que, en promedio, las personas involucradas en siniestros viales tienen alrededor de 38 años.\n",
    "\n",
    "3. **Desviación Estándar (std):** La desviación estándar de las edades de las víctimas es de aproximadamente 15.39 años. Esta medida proporciona una idea de la dispersión de las edades en el conjunto de datos. Una desviación estándar alta sugiere una mayor variabilidad en las edades de las víctimas.\n",
    "\n",
    "4. **Edad Mínima (min):** La edad mínima registrada en las víctimas es de 0 años. Esto podría indicar que hay casos de víctimas muy jóvenes, posiblemente incluso recién nacidos, involucrados en los siniestros viales. De igual manera se considera la posibilidad de la existencia de valores outliers, que se verificaran posteriormente.\n",
    "\n",
    "5. **Percentiles (25%, 50%, 75%):** Estos percentiles proporcionan información sobre la distribución de las edades de las víctimas en el conjunto de datos.\n",
    "   - El 25% de las víctimas tienen una edad igual o inferior a 27 años.\n",
    "   - El 50% de las víctimas tienen una edad igual o inferior a 35 años (mediana).\n",
    "   - El 75% de las víctimas tienen una edad igual o inferior a 46 años.\n",
    "\n",
    "6. **Edad Máxima (max):** La edad máxima registrada en las víctimas es de 100 años. Esto indica que incluso personas mayores están involucradas en los siniestros viales. De igual manera se considera la posibilidad de la existencia de valores outliers, que se verificaran posteriormente.\n",
    "\n",
    "Conclusión:\n",
    "- El análisis detallado de estas estadísticas revela que las víctimas de siniestros viales abarcan una amplia gama de edades, desde recién nacidos hasta personas mayores de 100 años.\n",
    "- La edad media de las víctimas es de aproximadamente 38 años, pero la dispersión en las edades es notable, como lo indica la desviación estándar.\n",
    "- Los percentiles proporcionan información sobre la distribución de las edades de las víctimas, mostrando que una proporción significativa de ellas son jóvenes adultos, pero también hay una cantidad considerable de personas mayores y jóvenes involucradas en los siniestros viales."
   ]
  },
  {
   "cell_type": "code",
   "execution_count": 82,
   "metadata": {},
   "outputs": [],
   "source": [
    "# Creamos una función para identificar valores outliers\n",
    "def identificar_outliers(dataframe, columna):\n",
    "    Q1 = dataframe[columna].quantile(0.25)\n",
    "    Q3 = dataframe[columna].quantile(0.75)\n",
    "    IQR = Q3 - Q1\n",
    "    limite_inferior = Q1 - 1.5 * IQR\n",
    "    limite_superior = Q3 + 1.5 * IQR\n",
    "    outliers = dataframe[(dataframe[columna] < limite_inferior) | (dataframe[columna] > limite_superior)]\n",
    "    return outliers"
   ]
  },
  {
   "cell_type": "code",
   "execution_count": 84,
   "metadata": {},
   "outputs": [
    {
     "name": "stdout",
     "output_type": "stream",
     "text": [
      "Valores outliers de la columna 'EDAD':\n"
     ]
    },
    {
     "data": {
      "text/html": [
       "<div>\n",
       "<style scoped>\n",
       "    .dataframe tbody tr th:only-of-type {\n",
       "        vertical-align: middle;\n",
       "    }\n",
       "\n",
       "    .dataframe tbody tr th {\n",
       "        vertical-align: top;\n",
       "    }\n",
       "\n",
       "    .dataframe thead th {\n",
       "        text-align: right;\n",
       "    }\n",
       "</style>\n",
       "<table border=\"1\" class=\"dataframe\">\n",
       "  <thead>\n",
       "    <tr style=\"text-align: right;\">\n",
       "      <th></th>\n",
       "      <th>ID_hecho</th>\n",
       "      <th>FECHA</th>\n",
       "      <th>ROL</th>\n",
       "      <th>VICTIMA</th>\n",
       "      <th>SEXO</th>\n",
       "      <th>EDAD</th>\n",
       "      <th>FECHA</th>\n",
       "      <th>VEHICULO_VICTIMA</th>\n",
       "      <th>GRAVEDAD</th>\n",
       "    </tr>\n",
       "  </thead>\n",
       "  <tbody>\n",
       "    <tr>\n",
       "      <th>37</th>\n",
       "      <td>2016-0050</td>\n",
       "      <td>2016-04-19</td>\n",
       "      <td>PEATON</td>\n",
       "      <td>PEATON</td>\n",
       "      <td>MASCULINO</td>\n",
       "      <td>78.0</td>\n",
       "      <td>NaN</td>\n",
       "      <td>NaN</td>\n",
       "      <td>NaN</td>\n",
       "    </tr>\n",
       "    <tr>\n",
       "      <th>42</th>\n",
       "      <td>2016-0055</td>\n",
       "      <td>2016-04-25</td>\n",
       "      <td>PEATON</td>\n",
       "      <td>PEATON</td>\n",
       "      <td>MASCULINO</td>\n",
       "      <td>79.0</td>\n",
       "      <td>NaN</td>\n",
       "      <td>NaN</td>\n",
       "      <td>NaN</td>\n",
       "    </tr>\n",
       "    <tr>\n",
       "      <th>60</th>\n",
       "      <td>2016-0082</td>\n",
       "      <td>2016-06-27</td>\n",
       "      <td>PEATON</td>\n",
       "      <td>PEATON</td>\n",
       "      <td>MASCULINO</td>\n",
       "      <td>87.0</td>\n",
       "      <td>NaN</td>\n",
       "      <td>NaN</td>\n",
       "      <td>NaN</td>\n",
       "    </tr>\n",
       "    <tr>\n",
       "      <th>61</th>\n",
       "      <td>2016-0083</td>\n",
       "      <td>2016-06-28</td>\n",
       "      <td>PEATON</td>\n",
       "      <td>PEATON</td>\n",
       "      <td>FEMENINO</td>\n",
       "      <td>76.0</td>\n",
       "      <td>NaN</td>\n",
       "      <td>NaN</td>\n",
       "      <td>NaN</td>\n",
       "    </tr>\n",
       "    <tr>\n",
       "      <th>64</th>\n",
       "      <td>2016-0086</td>\n",
       "      <td>2016-06-30</td>\n",
       "      <td>PEATON</td>\n",
       "      <td>PEATON</td>\n",
       "      <td>MASCULINO</td>\n",
       "      <td>75.0</td>\n",
       "      <td>NaN</td>\n",
       "      <td>NaN</td>\n",
       "      <td>NaN</td>\n",
       "    </tr>\n",
       "    <tr>\n",
       "      <th>...</th>\n",
       "      <td>...</td>\n",
       "      <td>...</td>\n",
       "      <td>...</td>\n",
       "      <td>...</td>\n",
       "      <td>...</td>\n",
       "      <td>...</td>\n",
       "      <td>...</td>\n",
       "      <td>...</td>\n",
       "      <td>...</td>\n",
       "    </tr>\n",
       "    <tr>\n",
       "      <th>28224</th>\n",
       "      <td>LC-2021-0139205</td>\n",
       "      <td>NaN</td>\n",
       "      <td>NaN</td>\n",
       "      <td>NaN</td>\n",
       "      <td>FEMENINO</td>\n",
       "      <td>78.0</td>\n",
       "      <td>2021-03-27</td>\n",
       "      <td>NAN</td>\n",
       "      <td>GRAVE</td>\n",
       "    </tr>\n",
       "    <tr>\n",
       "      <th>28241</th>\n",
       "      <td>LC-2021-0145102</td>\n",
       "      <td>NaN</td>\n",
       "      <td>NaN</td>\n",
       "      <td>NaN</td>\n",
       "      <td>MASCULINO</td>\n",
       "      <td>78.0</td>\n",
       "      <td>2021-03-30</td>\n",
       "      <td>MOTO</td>\n",
       "      <td>NAN</td>\n",
       "    </tr>\n",
       "    <tr>\n",
       "      <th>28275</th>\n",
       "      <td>LC-2021-0100636</td>\n",
       "      <td>NaN</td>\n",
       "      <td>NaN</td>\n",
       "      <td>NaN</td>\n",
       "      <td>MASCULINO</td>\n",
       "      <td>90.0</td>\n",
       "      <td>2021-03-05</td>\n",
       "      <td>PEATON</td>\n",
       "      <td>GRAVE</td>\n",
       "    </tr>\n",
       "    <tr>\n",
       "      <th>28286</th>\n",
       "      <td>LC-2021-0518069</td>\n",
       "      <td>NaN</td>\n",
       "      <td>NaN</td>\n",
       "      <td>NaN</td>\n",
       "      <td>FEMENINO</td>\n",
       "      <td>77.0</td>\n",
       "      <td>2021-10-19</td>\n",
       "      <td>PEATON</td>\n",
       "      <td>NAN</td>\n",
       "    </tr>\n",
       "    <tr>\n",
       "      <th>28317</th>\n",
       "      <td>LC-2021-0451911</td>\n",
       "      <td>NaN</td>\n",
       "      <td>NaN</td>\n",
       "      <td>NaN</td>\n",
       "      <td>MASCULINO</td>\n",
       "      <td>87.0</td>\n",
       "      <td>2021-09-11</td>\n",
       "      <td>TRANSPORTE PUBLICO</td>\n",
       "      <td>NAN</td>\n",
       "    </tr>\n",
       "  </tbody>\n",
       "</table>\n",
       "<p>644 rows × 9 columns</p>\n",
       "</div>"
      ],
      "text/plain": [
       "              ID_hecho       FECHA     ROL VICTIMA       SEXO  EDAD  \\\n",
       "37           2016-0050  2016-04-19  PEATON  PEATON  MASCULINO  78.0   \n",
       "42           2016-0055  2016-04-25  PEATON  PEATON  MASCULINO  79.0   \n",
       "60           2016-0082  2016-06-27  PEATON  PEATON  MASCULINO  87.0   \n",
       "61           2016-0083  2016-06-28  PEATON  PEATON   FEMENINO  76.0   \n",
       "64           2016-0086  2016-06-30  PEATON  PEATON  MASCULINO  75.0   \n",
       "...                ...         ...     ...     ...        ...   ...   \n",
       "28224  LC-2021-0139205         NaN     NaN     NaN   FEMENINO  78.0   \n",
       "28241  LC-2021-0145102         NaN     NaN     NaN  MASCULINO  78.0   \n",
       "28275  LC-2021-0100636         NaN     NaN     NaN  MASCULINO  90.0   \n",
       "28286  LC-2021-0518069         NaN     NaN     NaN   FEMENINO  77.0   \n",
       "28317  LC-2021-0451911         NaN     NaN     NaN  MASCULINO  87.0   \n",
       "\n",
       "           FECHA     VEHICULO_VICTIMA GRAVEDAD  \n",
       "37            NaN                 NaN      NaN  \n",
       "42            NaN                 NaN      NaN  \n",
       "60            NaN                 NaN      NaN  \n",
       "61            NaN                 NaN      NaN  \n",
       "64            NaN                 NaN      NaN  \n",
       "...           ...                 ...      ...  \n",
       "28224  2021-03-27                 NAN    GRAVE  \n",
       "28241  2021-03-30                MOTO      NAN  \n",
       "28275  2021-03-05              PEATON    GRAVE  \n",
       "28286  2021-10-19              PEATON      NAN  \n",
       "28317  2021-09-11  TRANSPORTE PUBLICO      NAN  \n",
       "\n",
       "[644 rows x 9 columns]"
      ]
     },
     "execution_count": 84,
     "metadata": {},
     "output_type": "execute_result"
    }
   ],
   "source": [
    "outliers_edad = identificar_outliers(victimas, 'EDAD')\n",
    "print(\"Valores outliers de la columna 'EDAD':\")\n",
    "outliers_edad"
   ]
  },
  {
   "cell_type": "code",
   "execution_count": 87,
   "metadata": {},
   "outputs": [
    {
     "data": {
      "text/plain": [
       "<Axes: xlabel='EDAD'>"
      ]
     },
     "execution_count": 87,
     "metadata": {},
     "output_type": "execute_result"
    },
    {
     "data": {
      "image/png": "[encoded data removed]",
      "text/plain": [
       "<Figure size 640x480 with 1 Axes>"
      ]
     },
     "metadata": {},
     "output_type": "display_data"
    }
   ],
   "source": [
    "sns.boxplot(x=victimas['EDAD'])"
   ]
  },
  {
   "cell_type": "code",
   "execution_count": 85,
   "metadata": {},
   "outputs": [
    {
     "data": {
      "text/plain": [
       "EDAD\n",
       "75.0     73\n",
       "76.0     71\n",
       "80.0     67\n",
       "78.0     56\n",
       "79.0     49\n",
       "77.0     49\n",
       "81.0     40\n",
       "82.0     40\n",
       "84.0     38\n",
       "83.0     31\n",
       "87.0     24\n",
       "85.0     23\n",
       "86.0     21\n",
       "88.0     12\n",
       "89.0     12\n",
       "90.0     10\n",
       "91.0      8\n",
       "92.0      7\n",
       "94.0      4\n",
       "95.0      3\n",
       "93.0      3\n",
       "97.0      1\n",
       "96.0      1\n",
       "100.0     1\n",
       "Name: count, dtype: int64"
      ]
     },
     "execution_count": 85,
     "metadata": {},
     "output_type": "execute_result"
    }
   ],
   "source": [
    "outliers_edad['EDAD'].value_counts()"
   ]
  },
  {
   "cell_type": "markdown",
   "metadata": {},
   "source": [
    "### Visualizacion de los datos dataframe Victimas"
   ]
  },
  {
   "cell_type": "code",
   "execution_count": 95,
   "metadata": {},
   "outputs": [
    {
     "data": {
      "text/plain": [
       "<Figure size 1600x1200 with 0 Axes>"
      ]
     },
     "execution_count": 95,
     "metadata": {},
     "output_type": "execute_result"
    },
    {
     "data": {
      "text/plain": [
       "<Figure size 1600x1200 with 0 Axes>"
      ]
     },
     "metadata": {},
     "output_type": "display_data"
    }
   ],
   "source": [
    "sns.set_palette(\"colorblind\")\n",
    "\n",
    "# Graficamos la información importante de cada columna\n",
    "plt.figure(figsize=(16, 12))"
   ]
  },
  {
   "cell_type": "code",
   "execution_count": 96,
   "metadata": {},
   "outputs": [
    {
     "data": {
      "text/plain": [
       "Text(0, 0.5, 'Frecuencia')"
      ]
     },
     "execution_count": 96,
     "metadata": {},
     "output_type": "execute_result"
    },
    {
     "data": {
      "image/png": "[encoded data removed]",
      "text/plain": [
       "<Figure size 640x480 with 1 Axes>"
      ]
     },
     "metadata": {},
     "output_type": "display_data"
    }
   ],
   "source": [
    "# Histograma de edades\n",
    "plt.subplot(2, 2, 1)\n",
    "sns.histplot(victimas['EDAD'].dropna(), kde=True)\n",
    "plt.title('Distribución de Edades')\n",
    "plt.xlabel('Edad')\n",
    "plt.ylabel('Frecuencia')"
   ]
  },
  {
   "cell_type": "code",
   "execution_count": 119,
   "metadata": {},
   "outputs": [
    {
     "data": {
      "image/png": "[encoded data removed]",
      "text/plain": [
       "<Figure size 640x480 with 1 Axes>"
      ]
     },
     "metadata": {},
     "output_type": "display_data"
    }
   ],
   "source": [
    "# Gráfico de barras de roles\n",
    "plt.subplot(2, 2, 2)\n",
    "sns.countplot(x='ROL', data=victimas, hue='ROL', palette='colorblind', legend=False)\n",
    "plt.title('Cantidad por Rol')\n",
    "plt.xlabel('Rol')\n",
    "plt.ylabel('Cantidad')\n",
    "\n",
    "plt.xticks(fontsize=4)\n",
    "\n",
    "plt.show()"
   ]
  },
  {
   "cell_type": "code",
   "execution_count": 138,
   "metadata": {},
   "outputs": [
    {
     "data": {
      "image/png": "[encoded data removed]",
      "text/plain": [
       "<Figure size 640x480 with 1 Axes>"
      ]
     },
     "metadata": {},
     "output_type": "display_data"
    }
   ],
   "source": [
    "# Gráfico de barras de la frecuencia de los valores en la columna 'VICTIMA' con colores diferentes\n",
    "plt.subplot(2, 2, 2)\n",
    "sns.countplot(x='VICTIMA', data=victimas, hue='VICTIMA', palette='colorblind', legend=False)\n",
    "plt.title('Cantidad por Victima')\n",
    "plt.xlabel('Victima')\n",
    "plt.ylabel('Cantidad')\n",
    "\n",
    "plt.xticks(fontsize=4)\n",
    "\n",
    "plt.show()"
   ]
  },
  {
   "cell_type": "code",
   "execution_count": 141,
   "metadata": {},
   "outputs": [
    {
     "data": {
      "image/png": "[encoded data removed]",
      "text/plain": [
       "<Figure size 640x480 with 1 Axes>"
      ]
     },
     "metadata": {},
     "output_type": "display_data"
    }
   ],
   "source": [
    "# Gráfico de barras de la frecuencia de los valores en la columna 'VEHICULO_VICTIMA' con colores diferentes\n",
    "plt.subplot(2, 2, 2)\n",
    "sns.countplot(x='VEHICULO_VICTIMA', data=victimas, hue='VEHICULO_VICTIMA', palette='colorblind', legend=False)\n",
    "plt.title('Cantidad por Vehiculo Victima')\n",
    "plt.xlabel('Vehiculo Victima')\n",
    "plt.ylabel('Cantidad')\n",
    "\n",
    "plt.xticks(rotation=90)  # Rotar los nombres de las columnas en 90 grados\n",
    "\n",
    "plt.show()"
   ]
  },
  {
   "cell_type": "code",
   "execution_count": 120,
   "metadata": {},
   "outputs": [
    {
     "data": {
      "image/png": "[encoded data removed]",
      "text/plain": [
       "<Figure size 640x480 with 1 Axes>"
      ]
     },
     "metadata": {},
     "output_type": "display_data"
    }
   ],
   "source": [
    "# Gráfico circular de sexo\n",
    "plt.subplot(2, 2, 3)\n",
    "sexo_counts = victimas['SEXO'].value_counts()\n",
    "plt.pie(sexo_counts.values, labels=sexo_counts.index, autopct='%1.1f%%', startangle=140, colors=sns.color_palette(\"colorblind\"))\n",
    "plt.title('Distribución de Sexo')\n",
    "plt.axis('equal')  # Para que el gráfico sea un círculo en lugar de una elipse\n",
    "plt.show()"
   ]
  },
  {
   "cell_type": "code",
   "execution_count": 124,
   "metadata": {},
   "outputs": [
    {
     "data": {
      "image/png": "[encoded data removed]",
      "text/plain": [
       "<Figure size 640x480 with 1 Axes>"
      ]
     },
     "metadata": {},
     "output_type": "display_data"
    }
   ],
   "source": [
    "# Gráfico de barras de gravedad\n",
    "plt.subplot(2, 2, 4)\n",
    "sns.countplot(x='GRAVEDAD', data=victimas, hue='GRAVEDAD', palette='colorblind', legend=False)\n",
    "plt.title('Cantidad por Gravedad')\n",
    "plt.xlabel('Gravedad')\n",
    "plt.ylabel('Cantidad')\n",
    "\n",
    "plt.tight_layout()\n",
    "plt.show()"
   ]
  },
  {
   "cell_type": "markdown",
   "metadata": {},
   "source": [
    "### Análisis de las Gráficas:\n",
    "\n",
    "#### Gráfica 2: Porcentaje de Víctimas según Rol en el Siniestro Vial\n",
    "\n",
    "La gráfica revela que el rol predominante entre las víctimas de siniestros viales es el de conductor, representando un 47.41% del total de casos analizados. Le sigue en frecuencia el rol de peatón, con un 38.36% de las víctimas. Estos datos sugieren una propensión significativa hacia la victimización de conductores, posiblemente asociada con la exposición inherente a la conducción, así como la vulnerabilidad de los peatones en entornos viales.\n",
    "\n",
    "#### Gráfica 3: Cantidad de Víctimas según Tipo de Vehículo Involucrado\n",
    "\n",
    "La representación visual indica que la mayor cantidad de víctimas está relacionada con motocicletas, abarcando aproximadamente 42.66% del total de casos. Seguidamente, los ciclistas constituyen un 15.76% significativo de las víctimas y muy cercano al valor anterior contamos con los peatones que constituyen un 15.04%. Este hallazgo sugiere una preocupante incidencia de accidentes relacionados con motocicletas, lo que podría atribuirse a factores como la falta de protección pasiva y la exposición inherente a este medio de transporte. Asimismo, destaca la vulnerabilidad de los peatones en entornos viales, lo que demanda medidas específicas de seguridad y prevención.\n",
    "\n",
    "#### Hallazgos Adicionales:\n",
    "\n",
    "- La mayoría de los vehículos de las víctimas implicadas son motocicletas, lo que subraya la importancia de abordar la seguridad en este tipo de vehículos para reducir la incidencia de accidentes graves.\n",
    "  \n",
    "- El análisis demográfico revela una disparidad de género, con un 62.4% de las víctimas identificadas como hombres y un 30.1% como mujeres. Esta diferencia podría implicar patrones de comportamiento y exposición distintos entre los géneros, lo cual requiere una investigación más profunda para implementar medidas de prevención específicas y equitativas.\n",
    "\n",
    "### Conclusiones:\n",
    "\n",
    "El análisis detallado de estas gráficas proporciona una comprensión más completa de las características de las víctimas de siniestros viales. La predominancia de conductores y peatones como roles principales, así como la alta incidencia de motocicletas como vehículos involucrados, destacan áreas críticas que requieren atención en las políticas de seguridad vial. Asimismo, la disparidad de género en las víctimas subraya la necesidad de abordar las diferencias en los patrones de exposición y riesgo entre hombres y mujeres para promover un entorno vial más seguro y equitativo."
   ]
  },
  {
   "cell_type": "code",
   "execution_count": 81,
   "metadata": {},
   "outputs": [
    {
     "data": {
      "text/html": [
       "<div>\n",
       "<style scoped>\n",
       "    .dataframe tbody tr th:only-of-type {\n",
       "        vertical-align: middle;\n",
       "    }\n",
       "\n",
       "    .dataframe tbody tr th {\n",
       "        vertical-align: top;\n",
       "    }\n",
       "\n",
       "    .dataframe thead th {\n",
       "        text-align: right;\n",
       "    }\n",
       "</style>\n",
       "<table border=\"1\" class=\"dataframe\">\n",
       "  <thead>\n",
       "    <tr style=\"text-align: right;\">\n",
       "      <th></th>\n",
       "      <th>N_VICTIMAS</th>\n",
       "      <th>HH</th>\n",
       "      <th>FRANJA_HORA</th>\n",
       "    </tr>\n",
       "  </thead>\n",
       "  <tbody>\n",
       "    <tr>\n",
       "      <th>count</th>\n",
       "      <td>24481.000000</td>\n",
       "      <td>695.000000</td>\n",
       "      <td>23776.000000</td>\n",
       "    </tr>\n",
       "    <tr>\n",
       "      <th>mean</th>\n",
       "      <td>1.156856</td>\n",
       "      <td>11.657554</td>\n",
       "      <td>13.611036</td>\n",
       "    </tr>\n",
       "    <tr>\n",
       "      <th>std</th>\n",
       "      <td>0.544944</td>\n",
       "      <td>6.700090</td>\n",
       "      <td>5.550877</td>\n",
       "    </tr>\n",
       "    <tr>\n",
       "      <th>min</th>\n",
       "      <td>0.000000</td>\n",
       "      <td>0.000000</td>\n",
       "      <td>0.000000</td>\n",
       "    </tr>\n",
       "    <tr>\n",
       "      <th>25%</th>\n",
       "      <td>1.000000</td>\n",
       "      <td>6.000000</td>\n",
       "      <td>10.000000</td>\n",
       "    </tr>\n",
       "    <tr>\n",
       "      <th>50%</th>\n",
       "      <td>1.000000</td>\n",
       "      <td>11.000000</td>\n",
       "      <td>14.000000</td>\n",
       "    </tr>\n",
       "    <tr>\n",
       "      <th>75%</th>\n",
       "      <td>1.000000</td>\n",
       "      <td>17.500000</td>\n",
       "      <td>18.000000</td>\n",
       "    </tr>\n",
       "    <tr>\n",
       "      <th>max</th>\n",
       "      <td>16.000000</td>\n",
       "      <td>23.000000</td>\n",
       "      <td>23.000000</td>\n",
       "    </tr>\n",
       "  </tbody>\n",
       "</table>\n",
       "</div>"
      ],
      "text/plain": [
       "         N_VICTIMAS          HH   FRANJA_HORA\n",
       "count  24481.000000  695.000000  23776.000000\n",
       "mean       1.156856   11.657554     13.611036\n",
       "std        0.544944    6.700090      5.550877\n",
       "min        0.000000    0.000000      0.000000\n",
       "25%        1.000000    6.000000     10.000000\n",
       "50%        1.000000   11.000000     14.000000\n",
       "75%        1.000000   17.500000     18.000000\n",
       "max       16.000000   23.000000     23.000000"
      ]
     },
     "execution_count": 81,
     "metadata": {},
     "output_type": "execute_result"
    }
   ],
   "source": [
    "hechos.describe()"
   ]
  },
  {
   "cell_type": "markdown",
   "metadata": {},
   "source": [
    "Para analizar estos datos, primero necesitamos entender qué representan las columnas:\n",
    "\n",
    "- `N_VICTIMAS`: Número de víctimas involucradas en cada incidente.\n",
    "- `HH`: Hora del día en la que ocurrió el incidente, representada como un número entero del 0 al 23.\n",
    "- `FRANJA_HORA`: Franja horaria en la que ocurrió el incidente.\n",
    "\n",
    "Ahora, procederemos a analizar cada una de las columnas y sus estadísticas descriptivas:\n",
    "\n",
    "### Número de Víctimas (`N_VICTIMAS`):\n",
    "- **Count (Recuento)**: Hay un total de 24,481 incidentes registrados en el dataset.\n",
    "- **Media (Mean)**: En promedio, hay aproximadamente 1.16 víctimas involucradas por incidente.\n",
    "- **Desviación Estándar (Std)**: La desviación estándar es de aproximadamente 0.54, lo que indica que la dispersión de los datos alrededor de la media es relativamente baja.\n",
    "- **Mínimo (Min)**: El menor número de víctimas en un incidente es 0.\n",
    "- **Percentiles (25%, 50%, 75%)**: El 25% de los incidentes tienen al menos 1 víctima, el 50% de los incidentes tienen al menos 1 víctima y el 75% de los incidentes tienen al menos 1 víctima.\n",
    "- **Máximo (Max)**: El máximo número de víctimas en un incidente es 16.\n",
    "\n",
    "### Hora del Día (`HH`):\n",
    "- **Count (Recuento)**: Hay 695 registros válidos para la hora del día.\n",
    "- **Media (Mean)**: La media de la hora del día en que ocurren los incidentes es aproximadamente 11.66, lo que sugiere que los incidentes tienden a ocurrir alrededor del mediodía.\n",
    "- **Desviación Estándar (Std)**: La desviación estándar es de aproximadamente 6.70, lo que indica que hay una variabilidad significativa en las horas en que ocurren los incidentes.\n",
    "- **Mínimo (Min)**: La hora mínima registrada es 0, lo que indica medianoche.\n",
    "- **Percentiles (25%, 50%, 75%)**: El 25% de los incidentes ocurren antes de las 6 am, el 50% ocurren antes de las 11 am y el 75% ocurren antes de las 5:30 pm.\n",
    "- **Máximo (Max)**: La hora máxima registrada es 23, lo que indica las 11 pm.\n",
    "\n",
    "### Franja Horaria (`FRANJA_HORA`):\n",
    "- **Count (Recuento)**: Hay 23,776 registros válidos para la franja horaria.\n",
    "- **Media (Mean)**: La media de la franja horaria en la que ocurren los incidentes es aproximadamente 13.61, lo que indica que en promedio los incidentes tienden a ocurrir por la tarde.\n",
    "- **Desviación Estándar (Std)**: La desviación estándar es de aproximadamente 5.55, lo que indica una variabilidad moderada en las franjas horarias de los incidentes.\n",
    "- **Mínimo (Min)**: La franja horaria mínima registrada es 0, que corresponde a la medianoche.\n",
    "- **Percentiles (25%, 50%, 75%)**: El 25% de los incidentes ocurren antes de las 10 am, el 50% ocurren antes de las 2 pm y el 75% ocurren antes de las 6 pm.\n",
    "- **Máximo (Max)**: La franja horaria máxima registrada es 23, que corresponde a las 11 pm.\n",
    "\n",
    "### Conclusiones:\n",
    "- La mayoría de los incidentes tienen una sola víctima, pero algunos tienen hasta 16 víctimas.\n",
    "- Los incidentes tienden a ocurrir alrededor del mediodía, con una variabilidad significativa en las horas en que ocurren.\n",
    "- En promedio, los incidentes tienden a ocurrir por la tarde, pero también hay una variabilidad moderada en las franjas horarias de los incidentes."
   ]
  },
  {
   "cell_type": "code",
   "execution_count": 144,
   "metadata": {},
   "outputs": [
    {
     "data": {
      "text/html": [
       "<div>\n",
       "<style scoped>\n",
       "    .dataframe tbody tr th:only-of-type {\n",
       "        vertical-align: middle;\n",
       "    }\n",
       "\n",
       "    .dataframe tbody tr th {\n",
       "        vertical-align: top;\n",
       "    }\n",
       "\n",
       "    .dataframe thead th {\n",
       "        text-align: right;\n",
       "    }\n",
       "</style>\n",
       "<table border=\"1\" class=\"dataframe\">\n",
       "  <thead>\n",
       "    <tr style=\"text-align: right;\">\n",
       "      <th></th>\n",
       "      <th>ID</th>\n",
       "      <th>N_VICTIMAS</th>\n",
       "      <th>FECHA</th>\n",
       "      <th>HH</th>\n",
       "      <th>TIPO_DE_CALLE</th>\n",
       "      <th>COMUNA</th>\n",
       "      <th>LATITUD</th>\n",
       "      <th>LONGITUD</th>\n",
       "      <th>VICTIMA</th>\n",
       "      <th>ACUSADO</th>\n",
       "      <th>AFECTADO_1</th>\n",
       "      <th>AFECTADO_2</th>\n",
       "      <th>FRANJA_HORA</th>\n",
       "      <th>GRAVEDAD</th>\n",
       "    </tr>\n",
       "  </thead>\n",
       "  <tbody>\n",
       "    <tr>\n",
       "      <th>0</th>\n",
       "      <td>2016-0001</td>\n",
       "      <td>1</td>\n",
       "      <td>2016-01-01</td>\n",
       "      <td>4.0</td>\n",
       "      <td>AVENIDA</td>\n",
       "      <td>8</td>\n",
       "      <td>-58.47533969</td>\n",
       "      <td>-34.68757022</td>\n",
       "      <td>MOTO</td>\n",
       "      <td>AUTO</td>\n",
       "      <td>MOTO</td>\n",
       "      <td>AUTO</td>\n",
       "      <td>NaN</td>\n",
       "      <td>NaN</td>\n",
       "    </tr>\n",
       "    <tr>\n",
       "      <th>1</th>\n",
       "      <td>2016-0002</td>\n",
       "      <td>1</td>\n",
       "      <td>2016-01-02</td>\n",
       "      <td>1.0</td>\n",
       "      <td>GRAL PAZ</td>\n",
       "      <td>9</td>\n",
       "      <td>-58.50877521</td>\n",
       "      <td>-34.66977709</td>\n",
       "      <td>AUTO</td>\n",
       "      <td>PASAJEROS</td>\n",
       "      <td>AUTO</td>\n",
       "      <td>PASAJEROS</td>\n",
       "      <td>NaN</td>\n",
       "      <td>NaN</td>\n",
       "    </tr>\n",
       "  </tbody>\n",
       "</table>\n",
       "</div>"
      ],
      "text/plain": [
       "          ID  N_VICTIMAS       FECHA   HH TIPO_DE_CALLE COMUNA       LATITUD  \\\n",
       "0  2016-0001           1  2016-01-01  4.0       AVENIDA      8  -58.47533969   \n",
       "1  2016-0002           1  2016-01-02  1.0      GRAL PAZ      9  -58.50877521   \n",
       "\n",
       "       LONGITUD VICTIMA    ACUSADO AFECTADO_1 AFECTADO_2  FRANJA_HORA GRAVEDAD  \n",
       "0  -34.68757022    MOTO       AUTO       MOTO       AUTO          NaN      NaN  \n",
       "1  -34.66977709    AUTO  PASAJEROS       AUTO  PASAJEROS          NaN      NaN  "
      ]
     },
     "execution_count": 144,
     "metadata": {},
     "output_type": "execute_result"
    }
   ],
   "source": [
    "hechos.head(2)"
   ]
  },
  {
   "cell_type": "code",
   "execution_count": 147,
   "metadata": {},
   "outputs": [
    {
     "data": {
      "image/png": "[encoded data removed]",
      "text/plain": [
       "<Figure size 640x480 with 1 Axes>"
      ]
     },
     "metadata": {},
     "output_type": "display_data"
    }
   ],
   "source": [
    "# Gráfico de barras de gravedad\n",
    "plt.subplot(2, 2, 4)\n",
    "sns.countplot(x='N_VICTIMAS', data=hechos, hue='N_VICTIMAS', palette='colorblind', legend=False)\n",
    "plt.title('Cantidad de Victimas')\n",
    "plt.xlabel('# De Victimas')\n",
    "plt.ylabel('Cantidad')\n",
    "\n",
    "plt.tight_layout()\n",
    "plt.show()"
   ]
  },
  {
   "cell_type": "markdown",
   "metadata": {},
   "source": [
    "Análisis de los Resultados\n",
    "A continuación, se presenta un análisis detallado de los datos:\n",
    "\n",
    "Número de Víctimas Únicas:\n",
    "\n",
    "La mayoría de los siniestros viales involucran una sola víctima, representando el 95.9% de los casos.\n",
    "Para las situaciones con dos víctimas, constituyen el 10% de los registros, lo que indica una proporción significativamente menor en comparación con los casos de una sola víctima.\n",
    "A medida que aumenta el número de víctimas, la frecuencia disminuye drásticamente. Por ejemplo, solo el 1.9% de los siniestros viales involucran tres víctimas, mientras que menos del 0.6% involucran cuatro o más víctimas.\n",
    "Siniestros con Cero Víctimas:\n",
    "\n",
    "Existe un único registro donde no se reportan víctimas. Aunque son casos raros, no se pueden descartar, y es importante investigar más a fondo las circunstancias detrás de tales incidentes para comprender las causas y prevenir futuros siniestros.\n",
    "Implicaciones en la Seguridad Vial:\n",
    "\n",
    "La alta incidencia de siniestros viales con una sola víctima sugiere la necesidad de medidas preventivas dirigidas a conductores individuales y factores de riesgo específicos.\n",
    "Por otro lado, los siniestros con múltiples víctimas, aunque menos frecuentes, pueden tener consecuencias más graves y requieren intervenciones más complejas para mitigar los riesgos.\n",
    "Conclusiones y Recomendaciones\n",
    "Este análisis destaca la importancia de abordar la seguridad vial desde múltiples perspectivas, considerando tanto los siniestros con una sola víctima como aquellos con múltiples víctimas.\n",
    "Se recomienda llevar a cabo estudios adicionales para comprender mejor los factores subyacentes que contribuyen a diferentes niveles de gravedad en los siniestros viales.\n",
    "Basándose en estos hallazgos, las autoridades de tránsito y los responsables de la seguridad vial pueden diseñar e implementar estrategias más efectivas para prevenir y reducir la incidencia de siniestros viales en la comunidad."
   ]
  },
  {
   "cell_type": "code",
   "execution_count": 155,
   "metadata": {},
   "outputs": [
    {
     "data": {
      "image/png": "[encoded data removed]",
      "text/plain": [
       "<Figure size 640x480 with 1 Axes>"
      ]
     },
     "metadata": {},
     "output_type": "display_data"
    }
   ],
   "source": [
    "# Gráfico circular de Tipo de Calle\n",
    "plt.subplot(2, 2, 3)\n",
    "calle_counts = hechos['TIPO_DE_CALLE'].value_counts()\n",
    "plt.pie(calle_counts.values, labels=calle_counts.index, autopct='%1.1f%%', startangle=140, colors=sns.color_palette(\"colorblind\"), textprops={'fontsize': 8})\n",
    "plt.title('Distribución Tipo de Calle', fontsize=14)\n",
    "plt.axis('equal')  # Para que el gráfico sea un círculo en lugar de una elipse\n",
    "plt.show()"
   ]
  },
  {
   "cell_type": "markdown",
   "metadata": {},
   "source": [
    "***Análisis de los Datos sobre el Tipo de Calle en los Siniestros Viales:***\n",
    "\n",
    "Según los datos proporcionados, se observa una distribución desigual en cuanto al tipo de calle donde ocurren los siniestros viales. Las avenidas representan la mayoría de los casos, con un total de 7204 incidentes registrados, seguidas por las calles, con 5519 incidentes. La autopista y la General Paz, por otro lado, muestran una incidencia relativamente menor, con 110 y 603 incidentes respectivamente.\n",
    "\n",
    "**Interpretación y Consideraciones:**\n",
    "\n",
    "Avenidas y Calles: La alta incidencia de siniestros viales en avenidas y calles podría estar relacionada con una mayor densidad de tráfico y una mayor interacción entre vehículos y peatones en entornos urbanos.\n",
    "\n",
    "**Autopistas y General Paz:**\n",
    "\n",
    "La menor cantidad de incidentes en autopistas y la General Paz podría atribuirse a un menor volumen de tráfico, así como a regulaciones de velocidad más estrictas y un diseño vial más seguro, como barreras de contención y separación de sentidos.\n",
    "\n",
    "**Conclusiones:**\n",
    "\n",
    "El análisis de la distribución de siniestros viales por tipo de calle revela áreas prioritarias para la implementación de medidas de seguridad vial. La concentración de incidentes en avenidas y calles resalta la necesidad de mejorar la infraestructura y las regulaciones de tráfico en entornos urbanos para reducir la incidencia de accidentes. Por otro lado, la menor frecuencia de siniestros en autopistas y vías de alta velocidad sugiere la efectividad de medidas de seguridad específicas en este tipo de carreteras, lo que podría servir como modelo para mejorar la seguridad en otros contextos viales."
   ]
  },
  {
   "cell_type": "code",
   "execution_count": 162,
   "metadata": {},
   "outputs": [
    {
     "data": {
      "image/png": "[encoded data removed]",
      "text/plain": [
       "<Figure size 640x480 with 1 Axes>"
      ]
     },
     "metadata": {},
     "output_type": "display_data"
    }
   ],
   "source": [
    "# Gráfico de barras de la frecuencia de los valores en la columna 'COMUNA' con colores diferentes\n",
    "plt.subplot(2, 2, 2)\n",
    "sns.countplot(x='COMUNA', data=hechos, hue='COMUNA', palette='colorblind', legend=False)\n",
    "plt.title('Cantidad por Comuna')\n",
    "plt.xlabel('Comuna')\n",
    "plt.ylabel('Cantidad')\n",
    "\n",
    "plt.xticks(fontsize=5)\n",
    "\n",
    "plt.show()"
   ]
  },
  {
   "cell_type": "markdown",
   "metadata": {},
   "source": [
    "***Análisis de los Datos sobre la Comuna en los Siniestros Viales:***\n",
    "\n",
    "**Distribución de Víctimas por Comuna**\n",
    "\n",
    "Los datos proporcionados muestran una distribución significativa de víctimas de siniestros viales entre las diferentes comunas. Las comunas 1, 15, 4, 3 y 9 representan aproximadamente el 10.31%, 7.79%, 7.06%, 7.01% y 6.83% del total de casos respectivamente. Estas cifras destacan la variabilidad en la incidencia de siniestros viales entre las distintas áreas de la ciudad.\n",
    "\n",
    "**Interpretación y Consideraciones:**\n",
    "\n",
    "Comunas con Mayor Incidencia: Las comunas con mayor porcentaje de casos pueden estar asociadas con una mayor densidad de población, un mayor volumen de tráfico vehicular o características geográficas que aumentan el riesgo de accidentes, como intersecciones complejas o zonas de alto tránsito peatonal.\n",
    "\n",
    "**Conclusiones:**\n",
    "El análisis porcentual de la distribución de víctimas por comuna destaca áreas geográficas donde se concentra la incidencia de siniestros viales, lo que sugiere la importancia de implementar medidas de seguridad vial específicas en estas áreas. Además, la identificación y corrección de inconsistencias en los datos son pasos fundamentales para garantizar la integridad y fiabilidad del análisis, así como para informar de manera precisa las decisiones y políticas relacionadas con la seguridad vial."
   ]
  },
  {
   "cell_type": "code",
   "execution_count": 168,
   "metadata": {},
   "outputs": [
    {
     "data": {
      "image/png": "[encoded data removed]",
      "text/plain": [
       "<Figure size 640x480 with 1 Axes>"
      ]
     },
     "metadata": {},
     "output_type": "display_data"
    }
   ],
   "source": [
    "# Gráfico de barras de la frecuencia de los valores en la columna 'VEHICULO_VICTIMA' con colores diferentes\n",
    "plt.subplot(2, 2, 2)\n",
    "sns.countplot(x='VICTIMA', data=hechos, hue='VICTIMA', palette='colorblind', legend=False)\n",
    "plt.title('Cantidad por Victima')\n",
    "plt.xlabel('Vehiculo Victima')\n",
    "plt.ylabel('Cantidad')\n",
    "\n",
    "plt.xticks(rotation=90)  # Rotar los nombres de las columnas en 90 grados\n",
    "\n",
    "plt.show()"
   ]
  },
  {
   "cell_type": "markdown",
   "metadata": {},
   "source": [
    "***Análisis de los Datos sobre el Tipo de Víctima en los Siniestros Viales:***\n",
    "\n",
    "**Distribución de Víctimas por Tipo**\n",
    "\n",
    "Los datos revelan una distribución variada en cuanto al tipo de víctima involucrada en los siniestros viales. Las motocicletas representan aproximadamente el 23.51% del total de casos, seguidas por peatones con aproximadamente el 9.35%, y ciclistas con aproximadamente el 9.02%. Los autos y el transporte público también tienen una incidencia significativa, representando aproximadamente el 8.64% y 2.77% respectivamente.\n",
    "\n",
    "**Interpretación y Consideraciones:**\n",
    "\n",
    "- Tipos de Víctimas Más Comunes: La alta representación de motocicletas, peatones y ciclistas como víctimas sugiere la vulnerabilidad de estos usuarios de la vía y la necesidad de medidas específicas para mejorar su seguridad.\n",
    "\n",
    "- Víctimas Menos Comunes: Tipos menos frecuentes de víctimas, como monopatines, objetos fijos y cargas, aunque representan una proporción menor del total, también requieren atención debido a sus características específicas y posibles riesgos asociados.\n",
    "\n",
    "**Conclusiones:**\n",
    "El análisis porcentual de la distribución de víctimas por tipo resalta la diversidad de usuarios de la vía involucrados en siniestros viales. Este análisis proporciona información valiosa para la identificación de áreas prioritarias de intervención en materia de seguridad vial y el desarrollo de estrategias específicas para proteger a los usuarios más vulnerables de la vía. Además, destaca la importancia de recopilar y analizar datos precisos y detallados para informar eficazmente las políticas y medidas de seguridad vial."
   ]
  },
  {
   "cell_type": "code",
   "execution_count": 170,
   "metadata": {},
   "outputs": [
    {
     "data": {
      "image/png": "[encoded data removed]",
      "text/plain": [
       "<Figure size 640x480 with 1 Axes>"
      ]
     },
     "metadata": {},
     "output_type": "display_data"
    }
   ],
   "source": [
    "# Gráfico de barras de la frecuencia de los valores en la columna 'VEHICULO_VICTIMA' con colores diferentes\n",
    "plt.subplot(2, 2, 2)\n",
    "sns.countplot(x='ACUSADO', data=hechos, hue='ACUSADO', palette='colorblind', legend=False)\n",
    "plt.title('Cantidad por Acusado')\n",
    "plt.xlabel('Acusado')\n",
    "plt.ylabel('Cantidad')\n",
    "\n",
    "plt.xticks(rotation=90)  # Rotar los nombres de las columnas en 90 grados\n",
    "\n",
    "plt.show()"
   ]
  },
  {
   "cell_type": "markdown",
   "metadata": {},
   "source": [
    "***Análisis de los Datos sobre el Acusado en los Siniestros Viales:***\n",
    "\n",
    "**Distribución de Acusados Relevantes**\n",
    "\n",
    "Los datos proporcionados revelan una distribución variada en cuanto a los acusados en los siniestros viales. A continuación se presenta la distribución porcentual de los acusados más relevantes:\n",
    "\n",
    "- Automóvil: Representa aproximadamente el 52.83% de los casos.\n",
    "- Transporte Público: Representa aproximadamente el 10.63% de los casos.\n",
    "- Camioneta: Representa aproximadamente el 9.51% de los casos.\n",
    "- Motocicleta: Representa aproximadamente el 7.43% de los casos.\n",
    "- Taxi: Representa aproximadamente el 6.44% de los casos.\n",
    "\n",
    "**Interpretación y Consideraciones:**\n",
    "\n",
    "Acusados Más Comunes: Los vehículos particulares, como automóviles, camionetas y motocicletas, así como el transporte público y los taxis, son los acusados más comunes en los siniestros viales, representando una proporción significativa del total de casos. Esto destaca la importancia de implementar políticas públicas específicas dirigidas a mejorar la seguridad vial tanto para los conductores como para los pasajeros de estos vehículos.\n",
    "\n",
    "**Conclusiones:**\n",
    "\n",
    "El análisis porcentual de la distribución de acusados en los siniestros viales resalta la importancia de abordar los factores asociados con los vehículos más comunes involucrados en estos eventos. Este enfoque permite una mejor orientación de las políticas públicas y las iniciativas de seguridad vial para reducir la incidencia de siniestros y promover un entorno vial más seguro para todos los usuarios de la vía."
   ]
  },
  {
   "cell_type": "markdown",
   "metadata": {},
   "source": [
    "## Guardamos los archivos\n",
    "\n",
    "En este momento ya hemos terminado nuestro EDA del proyecto, sin embargo procedermos a guardar los dataframes que hemos creado en esta etapa para asi poder manejar una visualizacion de los datos con power BI "
   ]
  },
  {
   "cell_type": "code",
   "execution_count": null,
   "metadata": {},
   "outputs": [],
   "source": [
    "victimas.to_csv('CSV\\\\victimas.csv', index=False)\n",
    "hechos.to_csv('CSV\\\\hechos.csv')"
   ]
  }
 ],
 "metadata": {
  "kernelspec": {
   "display_name": "Python 3",
   "language": "python",
   "name": "python3"
  },
  "language_info": {
   "codemirror_mode": {
    "name": "ipython",
    "version": 3
   },
   "file_extension": ".py",
   "mimetype": "text/x-python",
   "name": "python",
   "nbconvert_exporter": "python",
   "pygments_lexer": "ipython3",
   "version": "3.11.8"
  }
 },
 "nbformat": 4,
 "nbformat_minor": 2
}
